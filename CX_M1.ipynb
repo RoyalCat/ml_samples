{
 "cells": [
  {
   "cell_type": "markdown",
   "metadata": {},
   "source": [
    "## Установка и импорт зависимостей"
   ]
  },
  {
   "cell_type": "code",
   "execution_count": 2,
   "metadata": {
    "tags": []
   },
   "outputs": [
    {
     "name": "stdout",
     "output_type": "stream",
     "text": [
      "Requirement already satisfied: analytics-python==1.2.9 in c:\\users\\xiaomi pro\\appdata\\local\\programs\\python\\python36\\lib\\site-packages (from -r requirements1.txt (line 1)) (1.2.9)"
     ]
    },
    {
     "name": "stderr",
     "output_type": "stream",
     "text": [
      "You are using pip version 18.1, however version 20.2.2 is available.\n",
      "You should consider upgrading via the 'python -m pip install --upgrade pip' command.\n"
     ]
    },
    {
     "name": "stdout",
     "output_type": "stream",
     "text": [
      "\n",
      "Requirement already satisfied: appdirs==1.4.4 in c:\\users\\xiaomi pro\\appdata\\local\\programs\\python\\python36\\lib\\site-packages (from -r requirements1.txt (line 2)) (1.4.4)\n",
      "Requirement already satisfied: asgiref==3.2.10 in c:\\users\\xiaomi pro\\appdata\\local\\programs\\python\\python36\\lib\\site-packages (from -r requirements1.txt (line 3)) (3.2.10)\n",
      "Requirement already satisfied: attrs==19.3.0 in c:\\users\\xiaomi pro\\appdata\\local\\programs\\python\\python36\\lib\\site-packages (from -r requirements1.txt (line 4)) (19.3.0)\n",
      "Requirement already satisfied: backcall==0.2.0 in c:\\users\\xiaomi pro\\appdata\\local\\programs\\python\\python36\\lib\\site-packages (from -r requirements1.txt (line 5)) (0.2.0)\n",
      "Requirement already satisfied: bcrypt==3.2.0 in c:\\users\\xiaomi pro\\appdata\\local\\programs\\python\\python36\\lib\\site-packages (from -r requirements1.txt (line 6)) (3.2.0)\n",
      "Requirement already satisfied: beautifulsoup4==4.9.1 in c:\\users\\xiaomi pro\\appdata\\local\\programs\\python\\python36\\lib\\site-packages (from -r requirements1.txt (line 7)) (4.9.1)\n",
      "Requirement already satisfied: bleach==3.1.5 in c:\\users\\xiaomi pro\\appdata\\local\\programs\\python\\python36\\lib\\site-packages (from -r requirements1.txt (line 8)) (3.1.5)\n",
      "Requirement already satisfied: catboost==0.24.1 in c:\\users\\xiaomi pro\\appdata\\local\\programs\\python\\python36\\lib\\site-packages (from -r requirements1.txt (line 9)) (0.24.1)\n",
      "Requirement already satisfied: certifi==2020.6.20 in c:\\users\\xiaomi pro\\appdata\\local\\programs\\python\\python36\\lib\\site-packages (from -r requirements1.txt (line 10)) (2020.6.20)\n",
      "Requirement already satisfied: cffi==1.14.0 in c:\\users\\xiaomi pro\\appdata\\local\\programs\\python\\python36\\lib\\site-packages (from -r requirements1.txt (line 11)) (1.14.0)\n",
      "Requirement already satisfied: chardet==3.0.4 in c:\\users\\xiaomi pro\\appdata\\local\\programs\\python\\python36\\lib\\site-packages (from -r requirements1.txt (line 12)) (3.0.4)\n",
      "Requirement already satisfied: click==7.1.2 in c:\\users\\xiaomi pro\\appdata\\local\\programs\\python\\python36\\lib\\site-packages (from -r requirements1.txt (line 13)) (7.1.2)\n",
      "Requirement already satisfied: colorama==0.4.3 in c:\\users\\xiaomi pro\\appdata\\local\\programs\\python\\python36\\lib\\site-packages (from -r requirements1.txt (line 14)) (0.4.3)\n",
      "Requirement already satisfied: cryptography==3.1 in c:\\users\\xiaomi pro\\appdata\\local\\programs\\python\\python36\\lib\\site-packages (from -r requirements1.txt (line 15)) (3.1)\n",
      "Requirement already satisfied: CurrencyConverter==0.14.2 in c:\\users\\xiaomi pro\\appdata\\local\\programs\\python\\python36\\lib\\site-packages (from -r requirements1.txt (line 16)) (0.14.2)\n",
      "Requirement already satisfied: cycler==0.10.0 in c:\\users\\xiaomi pro\\appdata\\local\\programs\\python\\python36\\lib\\site-packages (from -r requirements1.txt (line 17)) (0.10.0)\n",
      "Requirement already satisfied: decorator==4.4.2 in c:\\users\\xiaomi pro\\appdata\\local\\programs\\python\\python36\\lib\\site-packages (from -r requirements1.txt (line 18)) (4.4.2)\n",
      "Requirement already satisfied: defusedxml==0.6.0 in c:\\users\\xiaomi pro\\appdata\\local\\programs\\python\\python36\\lib\\site-packages (from -r requirements1.txt (line 19)) (0.6.0)\n",
      "Requirement already satisfied: distlib==0.3.0 in c:\\users\\xiaomi pro\\appdata\\local\\programs\\python\\python36\\lib\\site-packages (from -r requirements1.txt (line 20)) (0.3.0)\n",
      "Requirement already satisfied: Django==3.0.7 in c:\\users\\xiaomi pro\\appdata\\local\\programs\\python\\python36\\lib\\site-packages (from -r requirements1.txt (line 21)) (3.0.7)\n",
      "Requirement already satisfied: entrypoints==0.3 in c:\\users\\xiaomi pro\\appdata\\local\\programs\\python\\python36\\lib\\site-packages (from -r requirements1.txt (line 22)) (0.3)\n",
      "Requirement already satisfied: filelock==3.0.12 in c:\\users\\xiaomi pro\\appdata\\local\\programs\\python\\python36\\lib\\site-packages (from -r requirements1.txt (line 23)) (3.0.12)\n",
      "Requirement already satisfied: Flask==1.1.2 in c:\\users\\xiaomi pro\\appdata\\local\\programs\\python\\python36\\lib\\site-packages (from -r requirements1.txt (line 24)) (1.1.2)\n",
      "Requirement already satisfied: gevent==20.6.2 in c:\\users\\xiaomi pro\\appdata\\local\\programs\\python\\python36\\lib\\site-packages (from -r requirements1.txt (line 25)) (20.6.2)\n",
      "Requirement already satisfied: gradio==1.1.9 in c:\\users\\xiaomi pro\\appdata\\local\\programs\\python\\python36\\lib\\site-packages (from -r requirements1.txt (line 26)) (1.1.9)\n",
      "Requirement already satisfied: graphviz==0.14.1 in c:\\users\\xiaomi pro\\appdata\\local\\programs\\python\\python36\\lib\\site-packages (from -r requirements1.txt (line 27)) (0.14.1)\n",
      "Requirement already satisfied: greenlet==0.4.16 in c:\\users\\xiaomi pro\\appdata\\local\\programs\\python\\python36\\lib\\site-packages (from -r requirements1.txt (line 28)) (0.4.16)\n",
      "Requirement already satisfied: idna==2.6 in c:\\users\\xiaomi pro\\appdata\\local\\programs\\python\\python36\\lib\\site-packages (from -r requirements1.txt (line 29)) (2.6)\n",
      "Requirement already satisfied: imageio==2.9.0 in c:\\users\\xiaomi pro\\appdata\\local\\programs\\python\\python36\\lib\\site-packages (from -r requirements1.txt (line 30)) (2.9.0)\n",
      "Requirement already satisfied: importlib-metadata==1.6.0 in c:\\users\\xiaomi pro\\appdata\\local\\programs\\python\\python36\\lib\\site-packages (from -r requirements1.txt (line 31)) (1.6.0)\n",
      "Requirement already satisfied: importlib-resources==1.5.0 in c:\\users\\xiaomi pro\\appdata\\local\\programs\\python\\python36\\lib\\site-packages (from -r requirements1.txt (line 32)) (1.5.0)\n",
      "Requirement already satisfied: ipykernel==5.3.4 in c:\\users\\xiaomi pro\\appdata\\local\\programs\\python\\python36\\lib\\site-packages (from -r requirements1.txt (line 33)) (5.3.4)\n",
      "Requirement already satisfied: ipython==7.16.1 in c:\\users\\xiaomi pro\\appdata\\local\\programs\\python\\python36\\lib\\site-packages (from -r requirements1.txt (line 34)) (7.16.1)\n",
      "Requirement already satisfied: ipython-genutils==0.2.0 in c:\\users\\xiaomi pro\\appdata\\local\\programs\\python\\python36\\lib\\site-packages (from -r requirements1.txt (line 35)) (0.2.0)\n",
      "Requirement already satisfied: ipywidgets==7.5.1 in c:\\users\\xiaomi pro\\appdata\\local\\programs\\python\\python36\\lib\\site-packages (from -r requirements1.txt (line 36)) (7.5.1)\n",
      "Requirement already satisfied: itsdangerous==1.1.0 in c:\\users\\xiaomi pro\\appdata\\local\\programs\\python\\python36\\lib\\site-packages (from -r requirements1.txt (line 37)) (1.1.0)\n",
      "Requirement already satisfied: jedi==0.17.2 in c:\\users\\xiaomi pro\\appdata\\local\\programs\\python\\python36\\lib\\site-packages (from -r requirements1.txt (line 38)) (0.17.2)\n",
      "Requirement already satisfied: Jinja2==2.11.2 in c:\\users\\xiaomi pro\\appdata\\local\\programs\\python\\python36\\lib\\site-packages (from -r requirements1.txt (line 39)) (2.11.2)\n",
      "Requirement already satisfied: joblib==0.16.0 in c:\\users\\xiaomi pro\\appdata\\local\\programs\\python\\python36\\lib\\site-packages (from -r requirements1.txt (line 40)) (0.16.0)\n",
      "Requirement already satisfied: json5==0.9.5 in c:\\users\\xiaomi pro\\appdata\\local\\programs\\python\\python36\\lib\\site-packages (from -r requirements1.txt (line 41)) (0.9.5)\n",
      "Requirement already satisfied: jsonschema==3.2.0 in c:\\users\\xiaomi pro\\appdata\\local\\programs\\python\\python36\\lib\\site-packages (from -r requirements1.txt (line 42)) (3.2.0)\n",
      "Requirement already satisfied: jupyter-client==6.1.6 in c:\\users\\xiaomi pro\\appdata\\local\\programs\\python\\python36\\lib\\site-packages (from -r requirements1.txt (line 43)) (6.1.6)\n",
      "Requirement already satisfied: jupyter-contrib-core==0.3.3 in c:\\users\\xiaomi pro\\appdata\\local\\programs\\python\\python36\\lib\\site-packages (from -r requirements1.txt (line 44)) (0.3.3)\n",
      "Requirement already satisfied: jupyter-contrib-nbextensions==0.5.1 in c:\\users\\xiaomi pro\\appdata\\local\\programs\\python\\python36\\lib\\site-packages (from -r requirements1.txt (line 45)) (0.5.1)\n",
      "Requirement already satisfied: jupyter-core==4.6.3 in c:\\users\\xiaomi pro\\appdata\\local\\programs\\python\\python36\\lib\\site-packages (from -r requirements1.txt (line 46)) (4.6.3)\n",
      "Requirement already satisfied: jupyter-highlight-selected-word==0.2.0 in c:\\users\\xiaomi pro\\appdata\\local\\programs\\python\\python36\\lib\\site-packages (from -r requirements1.txt (line 47)) (0.2.0)\n",
      "Requirement already satisfied: jupyter-latex-envs==1.4.6 in c:\\users\\xiaomi pro\\appdata\\local\\programs\\python\\python36\\lib\\site-packages (from -r requirements1.txt (line 48)) (1.4.6)\n",
      "Requirement already satisfied: jupyter-nbextensions-configurator==0.4.1 in c:\\users\\xiaomi pro\\appdata\\local\\programs\\python\\python36\\lib\\site-packages (from -r requirements1.txt (line 49)) (0.4.1)\n",
      "Requirement already satisfied: jupyterlab==2.2.0 in c:\\users\\xiaomi pro\\appdata\\local\\programs\\python\\python36\\lib\\site-packages (from -r requirements1.txt (line 50)) (2.2.0)\n",
      "Requirement already satisfied: jupyterlab-server==1.2.0 in c:\\users\\xiaomi pro\\appdata\\local\\programs\\python\\python36\\lib\\site-packages (from -r requirements1.txt (line 51)) (1.2.0)\n",
      "Requirement already satisfied: kiwisolver==1.2.0 in c:\\users\\xiaomi pro\\appdata\\local\\programs\\python\\python36\\lib\\site-packages (from -r requirements1.txt (line 52)) (1.2.0)\n",
      "Requirement already satisfied: lxml==4.5.2 in c:\\users\\xiaomi pro\\appdata\\local\\programs\\python\\python36\\lib\\site-packages (from -r requirements1.txt (line 53)) (4.5.2)\n",
      "Requirement already satisfied: MarkupSafe==1.1.1 in c:\\users\\xiaomi pro\\appdata\\local\\programs\\python\\python36\\lib\\site-packages (from -r requirements1.txt (line 54)) (1.1.1)\n",
      "Requirement already satisfied: matplotlib==3.3.0 in c:\\users\\xiaomi pro\\appdata\\local\\programs\\python\\python36\\lib\\site-packages (from -r requirements1.txt (line 55)) (3.3.0)\n",
      "Requirement already satisfied: mistune==0.8.4 in c:\\users\\xiaomi pro\\appdata\\local\\programs\\python\\python36\\lib\\site-packages (from -r requirements1.txt (line 56)) (0.8.4)\n",
      "Requirement already satisfied: nbconvert==5.6.1 in c:\\users\\xiaomi pro\\appdata\\local\\programs\\python\\python36\\lib\\site-packages (from -r requirements1.txt (line 57)) (5.6.1)\n",
      "Requirement already satisfied: nbformat==5.0.7 in c:\\users\\xiaomi pro\\appdata\\local\\programs\\python\\python36\\lib\\site-packages (from -r requirements1.txt (line 58)) (5.0.7)\n",
      "Requirement already satisfied: networkx==2.5 in c:\\users\\xiaomi pro\\appdata\\local\\programs\\python\\python36\\lib\\site-packages (from -r requirements1.txt (line 59)) (2.5)\n",
      "Requirement already satisfied: notebook==6.0.3 in c:\\users\\xiaomi pro\\appdata\\local\\programs\\python\\python36\\lib\\site-packages (from -r requirements1.txt (line 60)) (6.0.3)\n",
      "Requirement already satisfied: numpy==1.19.1 in c:\\users\\xiaomi pro\\appdata\\local\\programs\\python\\python36\\lib\\site-packages (from -r requirements1.txt (line 61)) (1.19.1)\n",
      "Requirement already satisfied: packaging==20.4 in c:\\users\\xiaomi pro\\appdata\\local\\programs\\python\\python36\\lib\\site-packages (from -r requirements1.txt (line 62)) (20.4)\n",
      "Requirement already satisfied: pandas==1.0.5 in c:\\users\\xiaomi pro\\appdata\\local\\programs\\python\\python36\\lib\\site-packages (from -r requirements1.txt (line 63)) (1.0.5)\n",
      "Requirement already satisfied: pandocfilters==1.4.2 in c:\\users\\xiaomi pro\\appdata\\local\\programs\\python\\python36\\lib\\site-packages (from -r requirements1.txt (line 64)) (1.4.2)\n",
      "Requirement already satisfied: paramiko==2.7.2 in c:\\users\\xiaomi pro\\appdata\\local\\programs\\python\\python36\\lib\\site-packages (from -r requirements1.txt (line 65)) (2.7.2)\n",
      "Requirement already satisfied: parso==0.7.0 in c:\\users\\xiaomi pro\\appdata\\local\\programs\\python\\python36\\lib\\site-packages (from -r requirements1.txt (line 66)) (0.7.0)\n",
      "Requirement already satisfied: pickleshare==0.7.5 in c:\\users\\xiaomi pro\\appdata\\local\\programs\\python\\python36\\lib\\site-packages (from -r requirements1.txt (line 67)) (0.7.5)\n",
      "Requirement already satisfied: Pillow==7.2.0 in c:\\users\\xiaomi pro\\appdata\\local\\programs\\python\\python36\\lib\\site-packages (from -r requirements1.txt (line 68)) (7.2.0)\n",
      "Requirement already satisfied: plotly==4.9.0 in c:\\users\\xiaomi pro\\appdata\\local\\programs\\python\\python36\\lib\\site-packages (from -r requirements1.txt (line 69)) (4.9.0)\n",
      "Requirement already satisfied: prometheus-client==0.8.0 in c:\\users\\xiaomi pro\\appdata\\local\\programs\\python\\python36\\lib\\site-packages (from -r requirements1.txt (line 70)) (0.8.0)\n",
      "Requirement already satisfied: prompt-toolkit==3.0.5 in c:\\users\\xiaomi pro\\appdata\\local\\programs\\python\\python36\\lib\\site-packages (from -r requirements1.txt (line 71)) (3.0.5)\n",
      "Requirement already satisfied: pycparser==2.20 in c:\\users\\xiaomi pro\\appdata\\local\\programs\\python\\python36\\lib\\site-packages (from -r requirements1.txt (line 72)) (2.20)\n",
      "Requirement already satisfied: Pygments==2.6.1 in c:\\users\\xiaomi pro\\appdata\\local\\programs\\python\\python36\\lib\\site-packages (from -r requirements1.txt (line 73)) (2.6.1)\n",
      "Requirement already satisfied: PyNaCl==1.4.0 in c:\\users\\xiaomi pro\\appdata\\local\\programs\\python\\python36\\lib\\site-packages (from -r requirements1.txt (line 74)) (1.4.0)\n",
      "Requirement already satisfied: pyparsing==2.4.7 in c:\\users\\xiaomi pro\\appdata\\local\\programs\\python\\python36\\lib\\site-packages (from -r requirements1.txt (line 75)) (2.4.7)\n",
      "Requirement already satisfied: pyrsistent==0.16.0 in c:\\users\\xiaomi pro\\appdata\\local\\programs\\python\\python36\\lib\\site-packages (from -r requirements1.txt (line 76)) (0.16.0)\n",
      "Requirement already satisfied: python-dateutil==2.8.1 in c:\\users\\xiaomi pro\\appdata\\local\\programs\\python\\python36\\lib\\site-packages (from -r requirements1.txt (line 77)) (2.8.1)\n",
      "Requirement already satisfied: pytz==2020.1 in c:\\users\\xiaomi pro\\appdata\\local\\programs\\python\\python36\\lib\\site-packages (from -r requirements1.txt (line 78)) (2020.1)\n",
      "Requirement already satisfied: PyWavelets==1.1.1 in c:\\users\\xiaomi pro\\appdata\\local\\programs\\python\\python36\\lib\\site-packages (from -r requirements1.txt (line 79)) (1.1.1)\n",
      "Requirement already satisfied: pywin32==228 in c:\\users\\xiaomi pro\\appdata\\local\\programs\\python\\python36\\lib\\site-packages (from -r requirements1.txt (line 80)) (228)\n",
      "Requirement already satisfied: pywinpty==0.5.7 in c:\\users\\xiaomi pro\\appdata\\local\\programs\\python\\python36\\lib\\site-packages (from -r requirements1.txt (line 81)) (0.5.7)\n",
      "Requirement already satisfied: PyYAML==5.3.1 in c:\\users\\xiaomi pro\\appdata\\local\\programs\\python\\python36\\lib\\site-packages (from -r requirements1.txt (line 82)) (5.3.1)\n",
      "Requirement already satisfied: pyzmq==19.0.1 in c:\\users\\xiaomi pro\\appdata\\local\\programs\\python\\python36\\lib\\site-packages (from -r requirements1.txt (line 83)) (19.0.1)\n",
      "Requirement already satisfied: requests==2.18.4 in c:\\users\\xiaomi pro\\appdata\\local\\programs\\python\\python36\\lib\\site-packages (from -r requirements1.txt (line 84)) (2.18.4)\n",
      "Requirement already satisfied: retrying==1.3.3 in c:\\users\\xiaomi pro\\appdata\\local\\programs\\python\\python36\\lib\\site-packages (from -r requirements1.txt (line 85)) (1.3.3)\n",
      "Requirement already satisfied: scikit-image==0.17.2 in c:\\users\\xiaomi pro\\appdata\\local\\programs\\python\\python36\\lib\\site-packages (from -r requirements1.txt (line 86)) (0.17.2)\n",
      "Requirement already satisfied: scikit-learn==0.23.2 in c:\\users\\xiaomi pro\\appdata\\local\\programs\\python\\python36\\lib\\site-packages (from -r requirements1.txt (line 87)) (0.23.2)\n",
      "Requirement already satisfied: scipy==1.5.2 in c:\\users\\xiaomi pro\\appdata\\local\\programs\\python\\python36\\lib\\site-packages (from -r requirements1.txt (line 88)) (1.5.2)\n",
      "Requirement already satisfied: seaborn==0.10.1 in c:\\users\\xiaomi pro\\appdata\\local\\programs\\python\\python36\\lib\\site-packages (from -r requirements1.txt (line 89)) (0.10.1)\n",
      "Requirement already satisfied: selenium==3.141.0 in c:\\users\\xiaomi pro\\appdata\\local\\programs\\python\\python36\\lib\\site-packages (from -r requirements1.txt (line 90)) (3.141.0)\n",
      "Requirement already satisfied: Send2Trash==1.5.0 in c:\\users\\xiaomi pro\\appdata\\local\\programs\\python\\python36\\lib\\site-packages (from -r requirements1.txt (line 91)) (1.5.0)\n",
      "Requirement already satisfied: six==1.15.0 in c:\\users\\xiaomi pro\\appdata\\local\\programs\\python\\python36\\lib\\site-packages (from -r requirements1.txt (line 92)) (1.15.0)\n",
      "Requirement already satisfied: sklearn==0.0 in c:\\users\\xiaomi pro\\appdata\\local\\programs\\python\\python36\\lib\\site-packages (from -r requirements1.txt (line 93)) (0.0)\n",
      "Requirement already satisfied: soupsieve==2.0.1 in c:\\users\\xiaomi pro\\appdata\\local\\programs\\python\\python36\\lib\\site-packages (from -r requirements1.txt (line 94)) (2.0.1)\n",
      "Requirement already satisfied: sqlparse==0.3.1 in c:\\users\\xiaomi pro\\appdata\\local\\programs\\python\\python36\\lib\\site-packages (from -r requirements1.txt (line 95)) (0.3.1)\n",
      "Requirement already satisfied: terminado==0.8.3 in c:\\users\\xiaomi pro\\appdata\\local\\programs\\python\\python36\\lib\\site-packages (from -r requirements1.txt (line 96)) (0.8.3)\n",
      "Requirement already satisfied: testpath==0.4.4 in c:\\users\\xiaomi pro\\appdata\\local\\programs\\python\\python36\\lib\\site-packages (from -r requirements1.txt (line 97)) (0.4.4)\n",
      "Requirement already satisfied: threadpoolctl==2.1.0 in c:\\users\\xiaomi pro\\appdata\\local\\programs\\python\\python36\\lib\\site-packages (from -r requirements1.txt (line 98)) (2.1.0)\n",
      "Requirement already satisfied: tifffile==2020.8.25 in c:\\users\\xiaomi pro\\appdata\\local\\programs\\python\\python36\\lib\\site-packages (from -r requirements1.txt (line 99)) (2020.8.25)\n",
      "Requirement already satisfied: tornado==6.0.4 in c:\\users\\xiaomi pro\\appdata\\local\\programs\\python\\python36\\lib\\site-packages (from -r requirements1.txt (line 100)) (6.0.4)\n",
      "Requirement already satisfied: tqdm==4.48.2 in c:\\users\\xiaomi pro\\appdata\\local\\programs\\python\\python36\\lib\\site-packages (from -r requirements1.txt (line 101)) (4.48.2)\n",
      "Requirement already satisfied: traitlets==4.3.3 in c:\\users\\xiaomi pro\\appdata\\local\\programs\\python\\python36\\lib\\site-packages (from -r requirements1.txt (line 102)) (4.3.3)\n",
      "Requirement already satisfied: urllib3==1.22 in c:\\users\\xiaomi pro\\appdata\\local\\programs\\python\\python36\\lib\\site-packages (from -r requirements1.txt (line 103)) (1.22)\n",
      "Requirement already satisfied: virtualenv==20.0.21 in c:\\users\\xiaomi pro\\appdata\\local\\programs\\python\\python36\\lib\\site-packages (from -r requirements1.txt (line 104)) (20.0.21)\n",
      "Requirement already satisfied: wcwidth==0.2.5 in c:\\users\\xiaomi pro\\appdata\\local\\programs\\python\\python36\\lib\\site-packages (from -r requirements1.txt (line 105)) (0.2.5)\n",
      "Requirement already satisfied: webencodings==0.5.1 in c:\\users\\xiaomi pro\\appdata\\local\\programs\\python\\python36\\lib\\site-packages (from -r requirements1.txt (line 106)) (0.5.1)\n",
      "Requirement already satisfied: websocket==0.2.1 in c:\\users\\xiaomi pro\\appdata\\local\\programs\\python\\python36\\lib\\site-packages (from -r requirements1.txt (line 107)) (0.2.1)\n",
      "Requirement already satisfied: websocket-client==0.57.0 in c:\\users\\xiaomi pro\\appdata\\local\\programs\\python\\python36\\lib\\site-packages (from -r requirements1.txt (line 108)) (0.57.0)\n",
      "Requirement already satisfied: Werkzeug==1.0.1 in c:\\users\\xiaomi pro\\appdata\\local\\programs\\python\\python36\\lib\\site-packages (from -r requirements1.txt (line 109)) (1.0.1)\n",
      "Requirement already satisfied: widgetsnbextension==3.5.1 in c:\\users\\xiaomi pro\\appdata\\local\\programs\\python\\python36\\lib\\site-packages (from -r requirements1.txt (line 110)) (3.5.1)\n",
      "Requirement already satisfied: xlwt==1.3.0 in c:\\users\\xiaomi pro\\appdata\\local\\programs\\python\\python36\\lib\\site-packages (from -r requirements1.txt (line 111)) (1.3.0)\n",
      "Requirement already satisfied: youtube-upload==0.8.0 in c:\\users\\xiaomi pro\\appdata\\local\\programs\\python\\python36\\lib\\site-packages (from -r requirements1.txt (line 112)) (0.8.0)\n",
      "Requirement already satisfied: zipp==3.1.0 in c:\\users\\xiaomi pro\\appdata\\local\\programs\\python\\python36\\lib\\site-packages (from -r requirements1.txt (line 113)) (3.1.0)\n",
      "Requirement already satisfied: zope.event==4.4 in c:\\users\\xiaomi pro\\appdata\\local\\programs\\python\\python36\\lib\\site-packages (from -r requirements1.txt (line 114)) (4.4)\n",
      "Requirement already satisfied: zope.interface==5.1.0 in c:\\users\\xiaomi pro\\appdata\\local\\programs\\python\\python36\\lib\\site-packages (from -r requirements1.txt (line 115)) (5.1.0)\n",
      "Requirement already satisfied: setuptools in c:\\users\\xiaomi pro\\appdata\\local\\programs\\python\\python36\\lib\\site-packages (from gevent==20.6.2->-r requirements1.txt (line 25)) (40.6.2)\n"
     ]
    }
   ],
   "source": [
    "!pip install -r requirements1.txt"
   ]
  },
  {
   "cell_type": "code",
   "execution_count": 2,
   "metadata": {},
   "outputs": [],
   "source": [
    "import pandas\n",
    "import re\n",
    "import numpy\n",
    "import pickle\n",
    "from tqdm import tqdm\n",
    "import helpers\n",
    "from sklearn import preprocessing\n",
    "from currency_converter import CurrencyConverter\n",
    "cc = CurrencyConverter()"
   ]
  },
  {
   "cell_type": "markdown",
   "metadata": {},
   "source": [
    "## Загрузка данных"
   ]
  },
  {
   "cell_type": "code",
   "execution_count": 3,
   "metadata": {},
   "outputs": [],
   "source": [
    "df: pandas.DataFrame = pandas.read_csv('real_estate_data.csv', low_memory=False, index_col=0)"
   ]
  },
  {
   "cell_type": "markdown",
   "metadata": {},
   "source": [
    "### Замена значений из таблицы для лучшего понимания"
   ]
  },
  {
   "cell_type": "code",
   "execution_count": 4,
   "metadata": {},
   "outputs": [],
   "source": [
    "replace_map = {\n",
    "}\n",
    "df = df.replace(replace_map)"
   ]
  },
  {
   "cell_type": "markdown",
   "metadata": {},
   "source": [
    "### Определяю столбцы без уникальных значений и убираю их"
   ]
  },
  {
   "cell_type": "code",
   "execution_count": 5,
   "metadata": {
    "tags": []
   },
   "outputs": [
    {
     "name": "stdout",
     "output_type": "stream",
     "text": [
      "type : 1\n",
      "sub_type : 12\n",
      "start_date : 181\n",
      "end_date : 182\n",
      "listing_type : 3\n",
      "tom : 181\n",
      "building_age : 15\n",
      "total_floor_count : 13\n",
      "floor_no : 36\n",
      "room_count : 37\n",
      "size : 944\n",
      "address : 7842\n",
      "furnished : 1\n",
      "heating_type : 17\n",
      "price : 3704\n",
      "price_currency : 5\n"
     ]
    }
   ],
   "source": [
    "zero_unique_collumns = []\n",
    "for name, col in df.iteritems():\n",
    "    print(name + \" : \" + str(len(col.unique())))\n",
    "    if(len(col.unique()) <= 1):\n",
    "        zero_unique_collumns.append(name)"
   ]
  },
  {
   "cell_type": "code",
   "execution_count": 6,
   "metadata": {
    "tags": []
   },
   "outputs": [
    {
     "name": "stdout",
     "output_type": "stream",
     "text": [
      "['type', 'furnished']\n"
     ]
    }
   ],
   "source": [
    "print(zero_unique_collumns)\n",
    "df = df.drop(labels=zero_unique_collumns, axis=1)"
   ]
  },
  {
   "cell_type": "markdown",
   "metadata": {},
   "source": [
    "### Разделяю адрес на несколько стобцов для лучшей работы классификатора"
   ]
  },
  {
   "cell_type": "code",
   "execution_count": 7,
   "metadata": {
    "tags": []
   },
   "outputs": [
    {
     "name": "stderr",
     "output_type": "stream",
     "text": [
      "100%|██████████| 403487/403487 [00:00<00:00, 465952.68it/s]\n"
     ]
    }
   ],
   "source": [
    "def splitAddressCol(val: str):\n",
    "    return val.split('/')\n",
    "\n",
    "df = helpers.split_collumn(df, 'address', ['address1', 'address2', 'addres2'], splitAddressCol)"
   ]
  },
  {
   "cell_type": "markdown",
   "metadata": {},
   "source": [
    "### Разделю столбец с количеством комнат для лучшей работы классификатора"
   ]
  },
  {
   "cell_type": "code",
   "execution_count": 8,
   "metadata": {
    "tags": []
   },
   "outputs": [
    {
     "name": "stderr",
     "output_type": "stream",
     "text": [
      "100%|██████████| 403487/403487 [00:01<00:00, 310899.14it/s]\n"
     ]
    }
   ],
   "source": [
    "def splitRoomCol(val: str):\n",
    "    result = re.findall(r\"(\\d+)\\+(\\d+)\", val)\n",
    "    if(len(result) == 1):\n",
    "        return [int(result[0][1]), int(result[0][0]) + int(result[0][1])]\n",
    "    else:\n",
    "        return []\n",
    "\n",
    "df = helpers.split_collumn(df, 'room_count', ['livingroom_count', 'room_count'], splitRoomCol)"
   ]
  },
  {
   "cell_type": "markdown",
   "metadata": {},
   "source": [
    "### Перевод цены в одну валюту"
   ]
  },
  {
   "cell_type": "code",
   "execution_count": 9,
   "metadata": {},
   "outputs": [],
   "source": [
    "df = df[df['price_currency'].notna()]"
   ]
  },
  {
   "cell_type": "code",
   "execution_count": 10,
   "metadata": {
    "tags": []
   },
   "outputs": [
    {
     "name": "stderr",
     "output_type": "stream",
     "text": [
      "100%|██████████| 402772/402772 [04:23<00:00, 1526.21it/s]\n"
     ]
    }
   ],
   "source": [
    "def currencyConvert(row):\n",
    "    return cc.convert(row['price'], row['price_currency'])\n",
    "\n",
    "df = helpers.concat_collumns(df, ['price', 'price_currency'], 'price', currencyConvert)"
   ]
  },
  {
   "cell_type": "markdown",
   "metadata": {},
   "source": [
    "### Сохранение незакодированных даных для удобства"
   ]
  },
  {
   "cell_type": "code",
   "execution_count": 15,
   "metadata": {},
   "outputs": [],
   "source": [
    "df.to_csv('uncoded_data.csv')"
   ]
  },
  {
   "cell_type": "markdown",
   "metadata": {},
   "source": [
    "###  Кодирование нечисловых значений"
   ]
  },
  {
   "cell_type": "code",
   "execution_count": 11,
   "metadata": {
    "tags": []
   },
   "outputs": [
    {
     "name": "stderr",
     "output_type": "stream",
     "text": [
      "100%|██████████| 16/16 [00:02<00:00,  7.34it/s]\n"
     ]
    }
   ],
   "source": []
  },
  {
   "cell_type": "markdown",
   "metadata": {},
   "source": [
    "#### Сохранение моделей кодировшиков для разкодирования в будуюшем "
   ]
  },
  {
   "cell_type": "code",
   "execution_count": 12,
   "metadata": {},
   "outputs": [],
   "source": [
    "with open('les.pkl', 'wb') as output:\n",
    "    pickle.dump(les, output)"
   ]
  },
  {
   "cell_type": "markdown",
   "metadata": {},
   "source": [
    "## Сохранение отфильтрованных данных"
   ]
  },
  {
   "cell_type": "code",
   "execution_count": 13,
   "metadata": {},
   "outputs": [],
   "source": [
    "df.to_csv('preprocessed_data.csv')"
   ]
  },
  {
   "cell_type": "code",
   "execution_count": 14,
   "metadata": {},
   "outputs": [
    {
     "data": {
      "text/html": [
       "<div>\n",
       "<style scoped>\n",
       "    .dataframe tbody tr th:only-of-type {\n",
       "        vertical-align: middle;\n",
       "    }\n",
       "\n",
       "    .dataframe tbody tr th {\n",
       "        vertical-align: top;\n",
       "    }\n",
       "\n",
       "    .dataframe thead th {\n",
       "        text-align: right;\n",
       "    }\n",
       "</style>\n",
       "<table border=\"1\" class=\"dataframe\">\n",
       "  <thead>\n",
       "    <tr style=\"text-align: right;\">\n",
       "      <th></th>\n",
       "      <th>sub_type</th>\n",
       "      <th>start_date</th>\n",
       "      <th>end_date</th>\n",
       "      <th>listing_type</th>\n",
       "      <th>tom</th>\n",
       "      <th>building_age</th>\n",
       "      <th>total_floor_count</th>\n",
       "      <th>floor_no</th>\n",
       "      <th>size</th>\n",
       "      <th>heating_type</th>\n",
       "      <th>address1</th>\n",
       "      <th>address2</th>\n",
       "      <th>addres2</th>\n",
       "      <th>livingroom_count</th>\n",
       "      <th>room_count</th>\n",
       "      <th>price</th>\n",
       "    </tr>\n",
       "    <tr>\n",
       "      <th>id</th>\n",
       "      <th></th>\n",
       "      <th></th>\n",
       "      <th></th>\n",
       "      <th></th>\n",
       "      <th></th>\n",
       "      <th></th>\n",
       "      <th></th>\n",
       "      <th></th>\n",
       "      <th></th>\n",
       "      <th></th>\n",
       "      <th></th>\n",
       "      <th></th>\n",
       "      <th></th>\n",
       "      <th></th>\n",
       "      <th></th>\n",
       "      <th></th>\n",
       "    </tr>\n",
       "  </thead>\n",
       "  <tbody>\n",
       "    <tr>\n",
       "      <th>1</th>\n",
       "      <td>7</td>\n",
       "      <td>93</td>\n",
       "      <td>30</td>\n",
       "      <td>2</td>\n",
       "      <td>30</td>\n",
       "      <td>0</td>\n",
       "      <td>4</td>\n",
       "      <td>11</td>\n",
       "      <td>90.0</td>\n",
       "      <td>0</td>\n",
       "      <td>78</td>\n",
       "      <td>249</td>\n",
       "      <td>2446</td>\n",
       "      <td>1.0</td>\n",
       "      <td>3.0</td>\n",
       "      <td>4.553793e+02</td>\n",
       "    </tr>\n",
       "    <tr>\n",
       "      <th>2</th>\n",
       "      <td>0</td>\n",
       "      <td>127</td>\n",
       "      <td>181</td>\n",
       "      <td>1</td>\n",
       "      <td>14</td>\n",
       "      <td>0</td>\n",
       "      <td>4</td>\n",
       "      <td>12</td>\n",
       "      <td>43.0</td>\n",
       "      <td>0</td>\n",
       "      <td>78</td>\n",
       "      <td>249</td>\n",
       "      <td>2446</td>\n",
       "      <td>0.0</td>\n",
       "      <td>1.0</td>\n",
       "      <td>6.375311e+04</td>\n",
       "    </tr>\n",
       "    <tr>\n",
       "      <th>3</th>\n",
       "      <td>0</td>\n",
       "      <td>61</td>\n",
       "      <td>90</td>\n",
       "      <td>1</td>\n",
       "      <td>30</td>\n",
       "      <td>0</td>\n",
       "      <td>0</td>\n",
       "      <td>32</td>\n",
       "      <td>NaN</td>\n",
       "      <td>0</td>\n",
       "      <td>66</td>\n",
       "      <td>488</td>\n",
       "      <td>3253</td>\n",
       "      <td>1.0</td>\n",
       "      <td>3.0</td>\n",
       "      <td>2.016680e+04</td>\n",
       "    </tr>\n",
       "    <tr>\n",
       "      <th>4</th>\n",
       "      <td>7</td>\n",
       "      <td>152</td>\n",
       "      <td>32</td>\n",
       "      <td>1</td>\n",
       "      <td>30</td>\n",
       "      <td>7</td>\n",
       "      <td>4</td>\n",
       "      <td>12</td>\n",
       "      <td>450.0</td>\n",
       "      <td>0</td>\n",
       "      <td>78</td>\n",
       "      <td>88</td>\n",
       "      <td>2746</td>\n",
       "      <td>1.0</td>\n",
       "      <td>7.0</td>\n",
       "      <td>4.228522e+06</td>\n",
       "    </tr>\n",
       "    <tr>\n",
       "      <th>5</th>\n",
       "      <td>7</td>\n",
       "      <td>93</td>\n",
       "      <td>30</td>\n",
       "      <td>1</td>\n",
       "      <td>30</td>\n",
       "      <td>0</td>\n",
       "      <td>4</td>\n",
       "      <td>11</td>\n",
       "      <td>90.0</td>\n",
       "      <td>0</td>\n",
       "      <td>78</td>\n",
       "      <td>249</td>\n",
       "      <td>2446</td>\n",
       "      <td>1.0</td>\n",
       "      <td>3.0</td>\n",
       "      <td>1.886572e+05</td>\n",
       "    </tr>\n",
       "    <tr>\n",
       "      <th>...</th>\n",
       "      <td>...</td>\n",
       "      <td>...</td>\n",
       "      <td>...</td>\n",
       "      <td>...</td>\n",
       "      <td>...</td>\n",
       "      <td>...</td>\n",
       "      <td>...</td>\n",
       "      <td>...</td>\n",
       "      <td>...</td>\n",
       "      <td>...</td>\n",
       "      <td>...</td>\n",
       "      <td>...</td>\n",
       "      <td>...</td>\n",
       "      <td>...</td>\n",
       "      <td>...</td>\n",
       "      <td>...</td>\n",
       "    </tr>\n",
       "    <tr>\n",
       "      <th>403483</th>\n",
       "      <td>0</td>\n",
       "      <td>160</td>\n",
       "      <td>181</td>\n",
       "      <td>2</td>\n",
       "      <td>162</td>\n",
       "      <td>14</td>\n",
       "      <td>12</td>\n",
       "      <td>34</td>\n",
       "      <td>NaN</td>\n",
       "      <td>16</td>\n",
       "      <td>78</td>\n",
       "      <td>394</td>\n",
       "      <td>96</td>\n",
       "      <td>NaN</td>\n",
       "      <td>NaN</td>\n",
       "      <td>1.951626e+02</td>\n",
       "    </tr>\n",
       "    <tr>\n",
       "      <th>403484</th>\n",
       "      <td>0</td>\n",
       "      <td>33</td>\n",
       "      <td>181</td>\n",
       "      <td>1</td>\n",
       "      <td>139</td>\n",
       "      <td>14</td>\n",
       "      <td>12</td>\n",
       "      <td>34</td>\n",
       "      <td>NaN</td>\n",
       "      <td>16</td>\n",
       "      <td>61</td>\n",
       "      <td>4</td>\n",
       "      <td>1012</td>\n",
       "      <td>1.0</td>\n",
       "      <td>3.0</td>\n",
       "      <td>1.561301e+04</td>\n",
       "    </tr>\n",
       "    <tr>\n",
       "      <th>403485</th>\n",
       "      <td>0</td>\n",
       "      <td>76</td>\n",
       "      <td>181</td>\n",
       "      <td>1</td>\n",
       "      <td>97</td>\n",
       "      <td>14</td>\n",
       "      <td>12</td>\n",
       "      <td>34</td>\n",
       "      <td>NaN</td>\n",
       "      <td>16</td>\n",
       "      <td>6</td>\n",
       "      <td>22</td>\n",
       "      <td>3331</td>\n",
       "      <td>1.0</td>\n",
       "      <td>2.0</td>\n",
       "      <td>4.800000e+04</td>\n",
       "    </tr>\n",
       "    <tr>\n",
       "      <th>403486</th>\n",
       "      <td>0</td>\n",
       "      <td>136</td>\n",
       "      <td>181</td>\n",
       "      <td>2</td>\n",
       "      <td>6</td>\n",
       "      <td>14</td>\n",
       "      <td>12</td>\n",
       "      <td>34</td>\n",
       "      <td>2.0</td>\n",
       "      <td>16</td>\n",
       "      <td>9</td>\n",
       "      <td>286</td>\n",
       "      <td>3805</td>\n",
       "      <td>1.0</td>\n",
       "      <td>3.0</td>\n",
       "      <td>1.170975e+02</td>\n",
       "    </tr>\n",
       "    <tr>\n",
       "      <th>403487</th>\n",
       "      <td>0</td>\n",
       "      <td>6</td>\n",
       "      <td>9</td>\n",
       "      <td>1</td>\n",
       "      <td>3</td>\n",
       "      <td>14</td>\n",
       "      <td>12</td>\n",
       "      <td>34</td>\n",
       "      <td>140.0</td>\n",
       "      <td>16</td>\n",
       "      <td>42</td>\n",
       "      <td>311</td>\n",
       "      <td>319</td>\n",
       "      <td>1.0</td>\n",
       "      <td>4.0</td>\n",
       "      <td>2.732276e+04</td>\n",
       "    </tr>\n",
       "  </tbody>\n",
       "</table>\n",
       "<p>402772 rows × 16 columns</p>\n",
       "</div>"
      ],
      "text/plain": [
       "        sub_type  start_date  end_date  listing_type  tom  building_age  \\\n",
       "id                                                                        \n",
       "1              7          93        30             2   30             0   \n",
       "2              0         127       181             1   14             0   \n",
       "3              0          61        90             1   30             0   \n",
       "4              7         152        32             1   30             7   \n",
       "5              7          93        30             1   30             0   \n",
       "...          ...         ...       ...           ...  ...           ...   \n",
       "403483         0         160       181             2  162            14   \n",
       "403484         0          33       181             1  139            14   \n",
       "403485         0          76       181             1   97            14   \n",
       "403486         0         136       181             2    6            14   \n",
       "403487         0           6         9             1    3            14   \n",
       "\n",
       "        total_floor_count  floor_no   size  heating_type  address1  address2  \\\n",
       "id                                                                             \n",
       "1                       4        11   90.0             0        78       249   \n",
       "2                       4        12   43.0             0        78       249   \n",
       "3                       0        32    NaN             0        66       488   \n",
       "4                       4        12  450.0             0        78        88   \n",
       "5                       4        11   90.0             0        78       249   \n",
       "...                   ...       ...    ...           ...       ...       ...   \n",
       "403483                 12        34    NaN            16        78       394   \n",
       "403484                 12        34    NaN            16        61         4   \n",
       "403485                 12        34    NaN            16         6        22   \n",
       "403486                 12        34    2.0            16         9       286   \n",
       "403487                 12        34  140.0            16        42       311   \n",
       "\n",
       "        addres2  livingroom_count  room_count         price  \n",
       "id                                                           \n",
       "1          2446               1.0         3.0  4.553793e+02  \n",
       "2          2446               0.0         1.0  6.375311e+04  \n",
       "3          3253               1.0         3.0  2.016680e+04  \n",
       "4          2746               1.0         7.0  4.228522e+06  \n",
       "5          2446               1.0         3.0  1.886572e+05  \n",
       "...         ...               ...         ...           ...  \n",
       "403483       96               NaN         NaN  1.951626e+02  \n",
       "403484     1012               1.0         3.0  1.561301e+04  \n",
       "403485     3331               1.0         2.0  4.800000e+04  \n",
       "403486     3805               1.0         3.0  1.170975e+02  \n",
       "403487      319               1.0         4.0  2.732276e+04  \n",
       "\n",
       "[402772 rows x 16 columns]"
      ]
     },
     "execution_count": 14,
     "metadata": {},
     "output_type": "execute_result"
    }
   ],
   "source": [
    "    df"
   ]
  },
  {
   "cell_type": "code",
   "execution_count": null,
   "metadata": {},
   "outputs": [],
   "source": []
  }
 ],
 "metadata": {
  "kernelspec": {
   "display_name": "Python 3",
   "language": "python",
   "name": "python3"
  },
  "language_info": {
   "codemirror_mode": {
    "name": "ipython",
    "version": 3
   },
   "file_extension": ".py",
   "mimetype": "text/x-python",
   "name": "python",
   "nbconvert_exporter": "python",
   "pygments_lexer": "ipython3",
   "version": "3.6.8"
  }
 },
 "nbformat": 4,
 "nbformat_minor": 4
}
