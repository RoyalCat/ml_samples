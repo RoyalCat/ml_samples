{
 "cells": [
  {
   "cell_type": "markdown",
   "metadata": {},
   "source": [
    "## Установка и импорт зависимостей"
   ]
  },
  {
   "cell_type": "code",
   "execution_count": 1,
   "metadata": {
    "tags": []
   },
   "outputs": [
    {
     "output_type": "stream",
     "name": "stdout",
     "text": "Requirement already satisfied: pandas in /home/royalcat/anaconda3/envs/wsrhelper/lib/python3.8/site-packages (1.1.1)\nRequirement already satisfied: numpy in /home/royalcat/anaconda3/envs/wsrhelper/lib/python3.8/site-packages (1.19.1)\nRequirement already satisfied: tqdm in /home/royalcat/anaconda3/envs/wsrhelper/lib/python3.8/site-packages (4.48.2)\nRequirement already satisfied: sklearn in /home/royalcat/anaconda3/envs/wsrhelper/lib/python3.8/site-packages (0.0)\nRequirement already satisfied: CurrencyConverter in /home/royalcat/anaconda3/envs/wsrhelper/lib/python3.8/site-packages (0.14.2)\nRequirement already satisfied: pytz>=2017.2 in /home/royalcat/anaconda3/envs/wsrhelper/lib/python3.8/site-packages (from pandas) (2020.1)\nRequirement already satisfied: python-dateutil>=2.7.3 in /home/royalcat/anaconda3/envs/wsrhelper/lib/python3.8/site-packages (from pandas) (2.8.1)\nRequirement already satisfied: scikit-learn in /home/royalcat/anaconda3/envs/wsrhelper/lib/python3.8/site-packages (from sklearn) (0.23.2)\nRequirement already satisfied: six>=1.5 in /home/royalcat/anaconda3/envs/wsrhelper/lib/python3.8/site-packages (from python-dateutil>=2.7.3->pandas) (1.15.0)\nRequirement already satisfied: scipy>=0.19.1 in /home/royalcat/anaconda3/envs/wsrhelper/lib/python3.8/site-packages (from scikit-learn->sklearn) (1.5.2)\nRequirement already satisfied: threadpoolctl>=2.0.0 in /home/royalcat/anaconda3/envs/wsrhelper/lib/python3.8/site-packages (from scikit-learn->sklearn) (2.1.0)\nRequirement already satisfied: joblib>=0.11 in /home/royalcat/anaconda3/envs/wsrhelper/lib/python3.8/site-packages (from scikit-learn->sklearn) (0.16.0)\n"
    }
   ],
   "source": [
    "!pip install pandas numpy tqdm sklearn CurrencyConverter"
   ]
  },
  {
   "cell_type": "code",
   "execution_count": 2,
   "metadata": {},
   "outputs": [],
   "source": [
    "import pandas\n",
    "import re\n",
    "import numpy\n",
    "import pickle\n",
    "from tqdm import tqdm\n",
    "import helpers\n",
    "from sklearn import preprocessing\n",
    "from currency_converter import CurrencyConverter\n",
    "cc = CurrencyConverter()"
   ]
  },
  {
   "cell_type": "markdown",
   "metadata": {},
   "source": [
    "## Загрузка данных"
   ]
  },
  {
   "cell_type": "code",
   "execution_count": 3,
   "metadata": {},
   "outputs": [],
   "source": [
    "df: pandas.DataFrame = pandas.read_csv('real_estate_data.csv', low_memory=False, index_col=0)"
   ]
  },
  {
   "cell_type": "markdown",
   "metadata": {},
   "source": [
    "### Замена значений из таблицы для лучшего понимания"
   ]
  },
  {
   "cell_type": "code",
   "execution_count": 4,
   "metadata": {},
   "outputs": [],
   "source": [
    "replace_map = {\n",
    "}\n",
    "df = df.replace(replace_map)"
   ]
  },
  {
   "cell_type": "markdown",
   "metadata": {},
   "source": [
    "### Определяю столбцы без уникальных значений и убираю их"
   ]
  },
  {
   "cell_type": "code",
   "execution_count": 5,
   "metadata": {
    "tags": []
   },
   "outputs": [
    {
     "output_type": "stream",
     "name": "stdout",
     "text": "type : 1\nsub_type : 12\nstart_date : 181\nend_date : 182\nlisting_type : 3\ntom : 181\nbuilding_age : 15\ntotal_floor_count : 13\nfloor_no : 36\nroom_count : 37\nsize : 944\naddress : 7842\nfurnished : 1\nheating_type : 17\nprice : 3704\nprice_currency : 5\n"
    }
   ],
   "source": [
    "zero_unique_collumns = []\n",
    "for name, col in df.iteritems():\n",
    "    print(name + \" : \" + str(len(col.unique())))\n",
    "    if(len(col.unique()) <= 1):\n",
    "        zero_unique_collumns.append(name)"
   ]
  },
  {
   "cell_type": "code",
   "execution_count": 6,
   "metadata": {
    "tags": []
   },
   "outputs": [
    {
     "output_type": "stream",
     "name": "stdout",
     "text": "['type', 'furnished']\n"
    }
   ],
   "source": [
    "print(zero_unique_collumns)\n",
    "df = df.drop(labels=zero_unique_collumns, axis=1)"
   ]
  },
  {
   "cell_type": "markdown",
   "metadata": {},
   "source": [
    "### Разделяю адрес на несколько стобцов для лучшей работы классификатора"
   ]
  },
  {
   "cell_type": "code",
   "execution_count": 7,
   "metadata": {
    "tags": []
   },
   "outputs": [
    {
     "output_type": "stream",
     "name": "stderr",
     "text": "100%|██████████| 403487/403487 [00:00<00:00, 465952.68it/s]\n"
    }
   ],
   "source": [
    "def splitAddressCol(val: str):\n",
    "    return val.split('/')\n",
    "\n",
    "df = helpers.split_collumn(df, 'address', ['address1', 'address2', 'addres2'], splitAddressCol)"
   ]
  },
  {
   "cell_type": "markdown",
   "metadata": {},
   "source": [
    "### Разделю столбец с количеством комнат для лучшей работы классификатора"
   ]
  },
  {
   "cell_type": "code",
   "execution_count": 8,
   "metadata": {
    "tags": []
   },
   "outputs": [
    {
     "output_type": "stream",
     "name": "stderr",
     "text": "100%|██████████| 403487/403487 [00:01<00:00, 310899.14it/s]\n"
    }
   ],
   "source": [
    "def splitRoomCol(val: str):\n",
    "    result = re.findall(r\"(\\d+)\\+(\\d+)\", val)\n",
    "    if(len(result) == 1):\n",
    "        return [int(result[0][1]), int(result[0][0]) + int(result[0][1])]\n",
    "    else:\n",
    "        return []\n",
    "\n",
    "df = helpers.split_collumn(df, 'room_count', ['livingroom_count', 'room_count'], splitRoomCol)"
   ]
  },
  {
   "cell_type": "markdown",
   "metadata": {},
   "source": [
    "### Перевод цены в одну валюту"
   ]
  },
  {
   "cell_type": "code",
   "execution_count": 9,
   "metadata": {},
   "outputs": [],
   "source": [
    "df = df[df['price_currency'].notna()]"
   ]
  },
  {
   "cell_type": "code",
   "execution_count": 10,
   "metadata": {
    "tags": []
   },
   "outputs": [
    {
     "output_type": "stream",
     "name": "stderr",
     "text": "100%|██████████| 402772/402772 [04:23<00:00, 1526.21it/s]\n"
    }
   ],
   "source": [
    "def currencyConvert(row):\n",
    "    return cc.convert(row['price'], row['price_currency'])\n",
    "\n",
    "df = helpers.concat_collumns(df, ['price', 'price_currency'], 'price', currencyConvert)"
   ]
  },
  {
   "cell_type": "markdown",
   "metadata": {},
   "source": [
    "### Сохранение незакодированных даных для удобства"
   ]
  },
  {
   "cell_type": "code",
   "execution_count": 15,
   "metadata": {},
   "outputs": [],
   "source": [
    "df.to_csv('uncoded_data.csv')"
   ]
  },
  {
   "cell_type": "markdown",
   "metadata": {},
   "source": [
    "###  Кодирование нечисловых значений"
   ]
  },
  {
   "cell_type": "code",
   "execution_count": 11,
   "metadata": {
    "tags": []
   },
   "outputs": [
    {
     "output_type": "stream",
     "name": "stderr",
     "text": "100%|██████████| 16/16 [00:02<00:00,  7.34it/s]\n"
    }
   ],
   "source": []
  },
  {
   "cell_type": "markdown",
   "metadata": {},
   "source": [
    "#### Сохранение моделей кодировшиков для разкодирования в будуюшем "
   ]
  },
  {
   "cell_type": "code",
   "execution_count": 12,
   "metadata": {},
   "outputs": [],
   "source": [
    "with open('les.pkl', 'wb') as output:\n",
    "    pickle.dump(les, output)"
   ]
  },
  {
   "cell_type": "markdown",
   "metadata": {},
   "source": [
    "## Сохранение отфильтрованных данных"
   ]
  },
  {
   "cell_type": "code",
   "execution_count": 13,
   "metadata": {},
   "outputs": [],
   "source": [
    "df.to_csv('preprocessed_data.csv')"
   ]
  },
  {
   "cell_type": "code",
   "execution_count": 14,
   "metadata": {},
   "outputs": [
    {
     "output_type": "execute_result",
     "data": {
      "text/plain": "        sub_type  start_date  end_date  listing_type  tom  building_age  \\\nid                                                                        \n1              7          93        30             2   30             0   \n2              0         127       181             1   14             0   \n3              0          61        90             1   30             0   \n4              7         152        32             1   30             7   \n5              7          93        30             1   30             0   \n...          ...         ...       ...           ...  ...           ...   \n403483         0         160       181             2  162            14   \n403484         0          33       181             1  139            14   \n403485         0          76       181             1   97            14   \n403486         0         136       181             2    6            14   \n403487         0           6         9             1    3            14   \n\n        total_floor_count  floor_no   size  heating_type  address1  address2  \\\nid                                                                             \n1                       4        11   90.0             0        78       249   \n2                       4        12   43.0             0        78       249   \n3                       0        32    NaN             0        66       488   \n4                       4        12  450.0             0        78        88   \n5                       4        11   90.0             0        78       249   \n...                   ...       ...    ...           ...       ...       ...   \n403483                 12        34    NaN            16        78       394   \n403484                 12        34    NaN            16        61         4   \n403485                 12        34    NaN            16         6        22   \n403486                 12        34    2.0            16         9       286   \n403487                 12        34  140.0            16        42       311   \n\n        addres2  livingroom_count  room_count         price  \nid                                                           \n1          2446               1.0         3.0  4.553793e+02  \n2          2446               0.0         1.0  6.375311e+04  \n3          3253               1.0         3.0  2.016680e+04  \n4          2746               1.0         7.0  4.228522e+06  \n5          2446               1.0         3.0  1.886572e+05  \n...         ...               ...         ...           ...  \n403483       96               NaN         NaN  1.951626e+02  \n403484     1012               1.0         3.0  1.561301e+04  \n403485     3331               1.0         2.0  4.800000e+04  \n403486     3805               1.0         3.0  1.170975e+02  \n403487      319               1.0         4.0  2.732276e+04  \n\n[402772 rows x 16 columns]",
      "text/html": "<div>\n<style scoped>\n    .dataframe tbody tr th:only-of-type {\n        vertical-align: middle;\n    }\n\n    .dataframe tbody tr th {\n        vertical-align: top;\n    }\n\n    .dataframe thead th {\n        text-align: right;\n    }\n</style>\n<table border=\"1\" class=\"dataframe\">\n  <thead>\n    <tr style=\"text-align: right;\">\n      <th></th>\n      <th>sub_type</th>\n      <th>start_date</th>\n      <th>end_date</th>\n      <th>listing_type</th>\n      <th>tom</th>\n      <th>building_age</th>\n      <th>total_floor_count</th>\n      <th>floor_no</th>\n      <th>size</th>\n      <th>heating_type</th>\n      <th>address1</th>\n      <th>address2</th>\n      <th>addres2</th>\n      <th>livingroom_count</th>\n      <th>room_count</th>\n      <th>price</th>\n    </tr>\n    <tr>\n      <th>id</th>\n      <th></th>\n      <th></th>\n      <th></th>\n      <th></th>\n      <th></th>\n      <th></th>\n      <th></th>\n      <th></th>\n      <th></th>\n      <th></th>\n      <th></th>\n      <th></th>\n      <th></th>\n      <th></th>\n      <th></th>\n      <th></th>\n    </tr>\n  </thead>\n  <tbody>\n    <tr>\n      <th>1</th>\n      <td>7</td>\n      <td>93</td>\n      <td>30</td>\n      <td>2</td>\n      <td>30</td>\n      <td>0</td>\n      <td>4</td>\n      <td>11</td>\n      <td>90.0</td>\n      <td>0</td>\n      <td>78</td>\n      <td>249</td>\n      <td>2446</td>\n      <td>1.0</td>\n      <td>3.0</td>\n      <td>4.553793e+02</td>\n    </tr>\n    <tr>\n      <th>2</th>\n      <td>0</td>\n      <td>127</td>\n      <td>181</td>\n      <td>1</td>\n      <td>14</td>\n      <td>0</td>\n      <td>4</td>\n      <td>12</td>\n      <td>43.0</td>\n      <td>0</td>\n      <td>78</td>\n      <td>249</td>\n      <td>2446</td>\n      <td>0.0</td>\n      <td>1.0</td>\n      <td>6.375311e+04</td>\n    </tr>\n    <tr>\n      <th>3</th>\n      <td>0</td>\n      <td>61</td>\n      <td>90</td>\n      <td>1</td>\n      <td>30</td>\n      <td>0</td>\n      <td>0</td>\n      <td>32</td>\n      <td>NaN</td>\n      <td>0</td>\n      <td>66</td>\n      <td>488</td>\n      <td>3253</td>\n      <td>1.0</td>\n      <td>3.0</td>\n      <td>2.016680e+04</td>\n    </tr>\n    <tr>\n      <th>4</th>\n      <td>7</td>\n      <td>152</td>\n      <td>32</td>\n      <td>1</td>\n      <td>30</td>\n      <td>7</td>\n      <td>4</td>\n      <td>12</td>\n      <td>450.0</td>\n      <td>0</td>\n      <td>78</td>\n      <td>88</td>\n      <td>2746</td>\n      <td>1.0</td>\n      <td>7.0</td>\n      <td>4.228522e+06</td>\n    </tr>\n    <tr>\n      <th>5</th>\n      <td>7</td>\n      <td>93</td>\n      <td>30</td>\n      <td>1</td>\n      <td>30</td>\n      <td>0</td>\n      <td>4</td>\n      <td>11</td>\n      <td>90.0</td>\n      <td>0</td>\n      <td>78</td>\n      <td>249</td>\n      <td>2446</td>\n      <td>1.0</td>\n      <td>3.0</td>\n      <td>1.886572e+05</td>\n    </tr>\n    <tr>\n      <th>...</th>\n      <td>...</td>\n      <td>...</td>\n      <td>...</td>\n      <td>...</td>\n      <td>...</td>\n      <td>...</td>\n      <td>...</td>\n      <td>...</td>\n      <td>...</td>\n      <td>...</td>\n      <td>...</td>\n      <td>...</td>\n      <td>...</td>\n      <td>...</td>\n      <td>...</td>\n      <td>...</td>\n    </tr>\n    <tr>\n      <th>403483</th>\n      <td>0</td>\n      <td>160</td>\n      <td>181</td>\n      <td>2</td>\n      <td>162</td>\n      <td>14</td>\n      <td>12</td>\n      <td>34</td>\n      <td>NaN</td>\n      <td>16</td>\n      <td>78</td>\n      <td>394</td>\n      <td>96</td>\n      <td>NaN</td>\n      <td>NaN</td>\n      <td>1.951626e+02</td>\n    </tr>\n    <tr>\n      <th>403484</th>\n      <td>0</td>\n      <td>33</td>\n      <td>181</td>\n      <td>1</td>\n      <td>139</td>\n      <td>14</td>\n      <td>12</td>\n      <td>34</td>\n      <td>NaN</td>\n      <td>16</td>\n      <td>61</td>\n      <td>4</td>\n      <td>1012</td>\n      <td>1.0</td>\n      <td>3.0</td>\n      <td>1.561301e+04</td>\n    </tr>\n    <tr>\n      <th>403485</th>\n      <td>0</td>\n      <td>76</td>\n      <td>181</td>\n      <td>1</td>\n      <td>97</td>\n      <td>14</td>\n      <td>12</td>\n      <td>34</td>\n      <td>NaN</td>\n      <td>16</td>\n      <td>6</td>\n      <td>22</td>\n      <td>3331</td>\n      <td>1.0</td>\n      <td>2.0</td>\n      <td>4.800000e+04</td>\n    </tr>\n    <tr>\n      <th>403486</th>\n      <td>0</td>\n      <td>136</td>\n      <td>181</td>\n      <td>2</td>\n      <td>6</td>\n      <td>14</td>\n      <td>12</td>\n      <td>34</td>\n      <td>2.0</td>\n      <td>16</td>\n      <td>9</td>\n      <td>286</td>\n      <td>3805</td>\n      <td>1.0</td>\n      <td>3.0</td>\n      <td>1.170975e+02</td>\n    </tr>\n    <tr>\n      <th>403487</th>\n      <td>0</td>\n      <td>6</td>\n      <td>9</td>\n      <td>1</td>\n      <td>3</td>\n      <td>14</td>\n      <td>12</td>\n      <td>34</td>\n      <td>140.0</td>\n      <td>16</td>\n      <td>42</td>\n      <td>311</td>\n      <td>319</td>\n      <td>1.0</td>\n      <td>4.0</td>\n      <td>2.732276e+04</td>\n    </tr>\n  </tbody>\n</table>\n<p>402772 rows × 16 columns</p>\n</div>"
     },
     "metadata": {},
     "execution_count": 14
    }
   ],
   "source": [
    "    df"
   ]
  },
  {
   "cell_type": "code",
   "execution_count": null,
   "metadata": {},
   "outputs": [],
   "source": []
  }
 ],
 "metadata": {
  "kernelspec": {
   "display_name": "Python 3.8.5 64-bit",
   "language": "python",
   "name": "python_defaultSpec_1598945954338"
  },
  "language_info": {
   "codemirror_mode": {
    "name": "ipython",
    "version": 3
   },
   "file_extension": ".py",
   "mimetype": "text/x-python",
   "name": "python",
   "nbconvert_exporter": "python",
   "pygments_lexer": "ipython3",
   "version": "3.8.5-final"
  }
 },
 "nbformat": 4,
 "nbformat_minor": 4
}