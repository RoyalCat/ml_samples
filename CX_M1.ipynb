{
 "cells": [
  {
   "cell_type": "markdown",
   "metadata": {},
   "source": [
    "## Установка и импорт зависимостей"
   ]
  },
  {
   "cell_type": "code",
   "execution_count": 1,
   "metadata": {
    "tags": []
   },
   "outputs": [
    {
     "output_type": "stream",
     "name": "stdout",
     "text": "Requirement already satisfied: pandas in .\\venv\\lib\\site-packages (1.1.1)\nRequirement already satisfied: numpy in .\\venv\\lib\\site-packages (1.19.1)\nRequirement already satisfied: tqdm in .\\venv\\lib\\site-packages (4.48.2)\nRequirement already satisfied: CurrencyConverter in .\\venv\\lib\\site-packages (0.14.2)\nRequirement already satisfied: python-dateutil>=2.7.3 in .\\venv\\lib\\site-packages (from pandas) (2.8.1)\nRequirement already satisfied: pytz>=2017.2 in .\\venv\\lib\\site-packages (from pandas) (2020.1)\nRequirement already satisfied: six>=1.5 in .\\venv\\lib\\site-packages (from python-dateutil>=2.7.3->pandas) (1.15.0)\n"
    }
   ],
   "source": [
    "!pip install pandas numpy tqdm CurrencyConverter"
   ]
  },
  {
   "cell_type": "code",
   "execution_count": 2,
   "metadata": {},
   "outputs": [],
   "source": [
    "import pandas\n",
    "import re\n",
    "import numpy\n",
    "from tqdm import tqdm\n",
    "import helpers\n",
    "from currency_converter import CurrencyConverter\n",
    "cc = CurrencyConverter()"
   ]
  },
  {
   "cell_type": "markdown",
   "metadata": {},
   "source": [
    "## Загрузка данных"
   ]
  },
  {
   "cell_type": "code",
   "execution_count": 3,
   "metadata": {},
   "outputs": [],
   "source": [
    "df: pandas.DataFrame = pandas.read_csv('real_estate_data.csv', low_memory=False, index_col=0)"
   ]
  },
  {
   "cell_type": "markdown",
   "metadata": {},
   "source": [
    "### Замена значений из таблицы для лучшего понимания"
   ]
  },
  {
   "cell_type": "code",
   "execution_count": 4,
   "metadata": {},
   "outputs": [],
   "source": [
    "replace_map = {\n",
    "}\n",
    "df = df.replace(replace_map)"
   ]
  },
  {
   "cell_type": "markdown",
   "metadata": {},
   "source": [
    "### Определяю столбцы без уникальных значений и убираю их"
   ]
  },
  {
   "cell_type": "code",
   "execution_count": 5,
   "metadata": {
    "tags": []
   },
   "outputs": [
    {
     "output_type": "stream",
     "name": "stdout",
     "text": "type : 1\nsub_type : 12\nstart_date : 181\nend_date : 182\nlisting_type : 3\ntom : 181\nbuilding_age : 15\ntotal_floor_count : 13\nfloor_no : 36\nroom_count : 37\nsize : 944\naddress : 7842\nfurnished : 1\nheating_type : 17\nprice : 3704\nprice_currency : 5\n"
    }
   ],
   "source": [
    "zero_unique_collumns = []\n",
    "for name, col in df.iteritems():\n",
    "    print(name + \" : \" + str(len(col.unique())))\n",
    "    if(len(col.unique()) <= 1):\n",
    "        zero_unique_collumns.append(name)"
   ]
  },
  {
   "cell_type": "code",
   "execution_count": 6,
   "metadata": {
    "tags": []
   },
   "outputs": [
    {
     "output_type": "stream",
     "name": "stdout",
     "text": "['type', 'furnished']\n"
    }
   ],
   "source": [
    "print(zero_unique_collumns)\n",
    "df = df.drop(labels=zero_unique_collumns, axis=1)"
   ]
  },
  {
   "cell_type": "markdown",
   "metadata": {},
   "source": [
    "### Разделяю адрес на несколько стобцов для лучшей работы классификатора"
   ]
  },
  {
   "cell_type": "code",
   "execution_count": 7,
   "metadata": {
    "tags": []
   },
   "outputs": [
    {
     "output_type": "stream",
     "name": "stderr",
     "text": "100%|██████████| 403487/403487 [00:00<00:00, 608567.51it/s]\n"
    }
   ],
   "source": [
    "def splitAddressCol(val: str):\n",
    "    return val.split('/')\n",
    "\n",
    "df = helpers.split_collumn(df, 'address', ['address1', 'address2', 'addres2'], splitAddressCol)"
   ]
  },
  {
   "cell_type": "markdown",
   "metadata": {},
   "source": [
    "### Разделю столбец с количеством комнат для лучшей работы классификатора"
   ]
  },
  {
   "cell_type": "code",
   "execution_count": 8,
   "metadata": {
    "tags": []
   },
   "outputs": [
    {
     "output_type": "stream",
     "name": "stderr",
     "text": "100%|██████████| 403487/403487 [00:01<00:00, 355809.52it/s]\n"
    }
   ],
   "source": [
    "def splitRoomCol(val: str):\n",
    "    result = re.findall(r\"(\\d+)\\+(\\d+)\", val)\n",
    "    if(len(result) == 1):\n",
    "        return [int(result[0][1]), int(result[0][0]) + int(result[0][1])]\n",
    "    else:\n",
    "        return []\n",
    "\n",
    "df = helpers.split_collumn(df, 'room_count', ['livingroom_count', 'room_count'], splitRoomCol)"
   ]
  },
  {
   "cell_type": "markdown",
   "metadata": {},
   "source": [
    "### Перевод цены в одну валюту"
   ]
  },
  {
   "cell_type": "code",
   "execution_count": 9,
   "metadata": {},
   "outputs": [],
   "source": [
    "df = df[df['price_currency'].notna()]"
   ]
  },
  {
   "cell_type": "code",
   "execution_count": 10,
   "metadata": {
    "tags": []
   },
   "outputs": [
    {
     "output_type": "stream",
     "name": "stderr",
     "text": "100%|██████████| 402772/402772 [03:00<00:00, 2231.22it/s]\n"
    },
    {
     "output_type": "execute_result",
     "data": {
      "text/plain": "        sub_type start_date  end_date  listing_type  tom building_age  \\\nid                                                                      \n1       Rezidans   12/10/18    1/9/19             2   30            0   \n2          Daire    2/13/19       NaN             1   14            0   \n3          Daire    10/9/18   11/8/18             1   30            0   \n4       Rezidans    9/10/18  10/10/18             1   30            3   \n5       Rezidans   12/10/18    1/9/19             1   30            0   \n...          ...        ...       ...           ...  ...          ...   \n403483     Daire    9/18/18       NaN             2  162          NaN   \n403484     Daire   10/11/18       NaN             1  139          NaN   \n403485     Daire   11/22/18       NaN             1   97          NaN   \n403486     Daire    2/21/19       NaN             2    6          NaN   \n403487     Daire    1/15/19   1/18/19             1    3          NaN   \n\n       total_floor_count      floor_no   size heating_type  address1  \\\nid                                                                     \n1            20 ve üzeri             2   90.0      Fancoil  İstanbul   \n2            20 ve üzeri   20 ve üzeri   43.0      Fancoil  İstanbul   \n3                      1  Yüksek Giriş    NaN      Fancoil  Tekirdağ   \n4            20 ve üzeri   20 ve üzeri  450.0      Fancoil  İstanbul   \n5            20 ve üzeri             2   90.0      Fancoil  İstanbul   \n...                  ...           ...    ...          ...       ...   \n403483               NaN           NaN    NaN          NaN  İstanbul   \n403484               NaN           NaN    NaN          NaN   Sakarya   \n403485               NaN           NaN    NaN          NaN   Antalya   \n403486               NaN           NaN    2.0          NaN     Aydın   \n403487               NaN           NaN  140.0          NaN   Kayseri   \n\n           address2     addres2  livingroom_count  room_count         price  \nid                                                                           \n1            Kartal  Kordonboyu               1.0         3.0  4.553793e+02  \n2            Kartal  Kordonboyu               0.0         1.0  6.375311e+04  \n3             Çorlu    Reşadiye               1.0         3.0  2.016680e+04  \n4          Beşiktaş      Levent               1.0         7.0  4.228522e+06  \n5            Kartal  Kordonboyu               1.0         3.0  1.886572e+05  \n...             ...         ...               ...         ...           ...  \n403483  Sultanbeyli        Adil               NaN         NaN  1.951626e+02  \n403484    Adapazarı  Cumhuriyet               1.0         3.0  1.561301e+04  \n403485       Alanya       Saray               1.0         2.0  4.800000e+04  \n403486     Kuşadası     Türkmen               1.0         3.0  1.170975e+02  \n403487    Melikgazi    Alpaslan               1.0         4.0  2.732276e+04  \n\n[402772 rows x 16 columns]",
      "text/html": "<div>\n<style scoped>\n    .dataframe tbody tr th:only-of-type {\n        vertical-align: middle;\n    }\n\n    .dataframe tbody tr th {\n        vertical-align: top;\n    }\n\n    .dataframe thead th {\n        text-align: right;\n    }\n</style>\n<table border=\"1\" class=\"dataframe\">\n  <thead>\n    <tr style=\"text-align: right;\">\n      <th></th>\n      <th>sub_type</th>\n      <th>start_date</th>\n      <th>end_date</th>\n      <th>listing_type</th>\n      <th>tom</th>\n      <th>building_age</th>\n      <th>total_floor_count</th>\n      <th>floor_no</th>\n      <th>size</th>\n      <th>heating_type</th>\n      <th>address1</th>\n      <th>address2</th>\n      <th>addres2</th>\n      <th>livingroom_count</th>\n      <th>room_count</th>\n      <th>price</th>\n    </tr>\n    <tr>\n      <th>id</th>\n      <th></th>\n      <th></th>\n      <th></th>\n      <th></th>\n      <th></th>\n      <th></th>\n      <th></th>\n      <th></th>\n      <th></th>\n      <th></th>\n      <th></th>\n      <th></th>\n      <th></th>\n      <th></th>\n      <th></th>\n      <th></th>\n    </tr>\n  </thead>\n  <tbody>\n    <tr>\n      <th>1</th>\n      <td>Rezidans</td>\n      <td>12/10/18</td>\n      <td>1/9/19</td>\n      <td>2</td>\n      <td>30</td>\n      <td>0</td>\n      <td>20 ve üzeri</td>\n      <td>2</td>\n      <td>90.0</td>\n      <td>Fancoil</td>\n      <td>İstanbul</td>\n      <td>Kartal</td>\n      <td>Kordonboyu</td>\n      <td>1.0</td>\n      <td>3.0</td>\n      <td>4.553793e+02</td>\n    </tr>\n    <tr>\n      <th>2</th>\n      <td>Daire</td>\n      <td>2/13/19</td>\n      <td>NaN</td>\n      <td>1</td>\n      <td>14</td>\n      <td>0</td>\n      <td>20 ve üzeri</td>\n      <td>20 ve üzeri</td>\n      <td>43.0</td>\n      <td>Fancoil</td>\n      <td>İstanbul</td>\n      <td>Kartal</td>\n      <td>Kordonboyu</td>\n      <td>0.0</td>\n      <td>1.0</td>\n      <td>6.375311e+04</td>\n    </tr>\n    <tr>\n      <th>3</th>\n      <td>Daire</td>\n      <td>10/9/18</td>\n      <td>11/8/18</td>\n      <td>1</td>\n      <td>30</td>\n      <td>0</td>\n      <td>1</td>\n      <td>Yüksek Giriş</td>\n      <td>NaN</td>\n      <td>Fancoil</td>\n      <td>Tekirdağ</td>\n      <td>Çorlu</td>\n      <td>Reşadiye</td>\n      <td>1.0</td>\n      <td>3.0</td>\n      <td>2.016680e+04</td>\n    </tr>\n    <tr>\n      <th>4</th>\n      <td>Rezidans</td>\n      <td>9/10/18</td>\n      <td>10/10/18</td>\n      <td>1</td>\n      <td>30</td>\n      <td>3</td>\n      <td>20 ve üzeri</td>\n      <td>20 ve üzeri</td>\n      <td>450.0</td>\n      <td>Fancoil</td>\n      <td>İstanbul</td>\n      <td>Beşiktaş</td>\n      <td>Levent</td>\n      <td>1.0</td>\n      <td>7.0</td>\n      <td>4.228522e+06</td>\n    </tr>\n    <tr>\n      <th>5</th>\n      <td>Rezidans</td>\n      <td>12/10/18</td>\n      <td>1/9/19</td>\n      <td>1</td>\n      <td>30</td>\n      <td>0</td>\n      <td>20 ve üzeri</td>\n      <td>2</td>\n      <td>90.0</td>\n      <td>Fancoil</td>\n      <td>İstanbul</td>\n      <td>Kartal</td>\n      <td>Kordonboyu</td>\n      <td>1.0</td>\n      <td>3.0</td>\n      <td>1.886572e+05</td>\n    </tr>\n    <tr>\n      <th>...</th>\n      <td>...</td>\n      <td>...</td>\n      <td>...</td>\n      <td>...</td>\n      <td>...</td>\n      <td>...</td>\n      <td>...</td>\n      <td>...</td>\n      <td>...</td>\n      <td>...</td>\n      <td>...</td>\n      <td>...</td>\n      <td>...</td>\n      <td>...</td>\n      <td>...</td>\n      <td>...</td>\n    </tr>\n    <tr>\n      <th>403483</th>\n      <td>Daire</td>\n      <td>9/18/18</td>\n      <td>NaN</td>\n      <td>2</td>\n      <td>162</td>\n      <td>NaN</td>\n      <td>NaN</td>\n      <td>NaN</td>\n      <td>NaN</td>\n      <td>NaN</td>\n      <td>İstanbul</td>\n      <td>Sultanbeyli</td>\n      <td>Adil</td>\n      <td>NaN</td>\n      <td>NaN</td>\n      <td>1.951626e+02</td>\n    </tr>\n    <tr>\n      <th>403484</th>\n      <td>Daire</td>\n      <td>10/11/18</td>\n      <td>NaN</td>\n      <td>1</td>\n      <td>139</td>\n      <td>NaN</td>\n      <td>NaN</td>\n      <td>NaN</td>\n      <td>NaN</td>\n      <td>NaN</td>\n      <td>Sakarya</td>\n      <td>Adapazarı</td>\n      <td>Cumhuriyet</td>\n      <td>1.0</td>\n      <td>3.0</td>\n      <td>1.561301e+04</td>\n    </tr>\n    <tr>\n      <th>403485</th>\n      <td>Daire</td>\n      <td>11/22/18</td>\n      <td>NaN</td>\n      <td>1</td>\n      <td>97</td>\n      <td>NaN</td>\n      <td>NaN</td>\n      <td>NaN</td>\n      <td>NaN</td>\n      <td>NaN</td>\n      <td>Antalya</td>\n      <td>Alanya</td>\n      <td>Saray</td>\n      <td>1.0</td>\n      <td>2.0</td>\n      <td>4.800000e+04</td>\n    </tr>\n    <tr>\n      <th>403486</th>\n      <td>Daire</td>\n      <td>2/21/19</td>\n      <td>NaN</td>\n      <td>2</td>\n      <td>6</td>\n      <td>NaN</td>\n      <td>NaN</td>\n      <td>NaN</td>\n      <td>2.0</td>\n      <td>NaN</td>\n      <td>Aydın</td>\n      <td>Kuşadası</td>\n      <td>Türkmen</td>\n      <td>1.0</td>\n      <td>3.0</td>\n      <td>1.170975e+02</td>\n    </tr>\n    <tr>\n      <th>403487</th>\n      <td>Daire</td>\n      <td>1/15/19</td>\n      <td>1/18/19</td>\n      <td>1</td>\n      <td>3</td>\n      <td>NaN</td>\n      <td>NaN</td>\n      <td>NaN</td>\n      <td>140.0</td>\n      <td>NaN</td>\n      <td>Kayseri</td>\n      <td>Melikgazi</td>\n      <td>Alpaslan</td>\n      <td>1.0</td>\n      <td>4.0</td>\n      <td>2.732276e+04</td>\n    </tr>\n  </tbody>\n</table>\n<p>402772 rows × 16 columns</p>\n</div>"
     },
     "metadata": {},
     "execution_count": 10
    }
   ],
   "source": [
    "def currencyConvert(row):\n",
    "    return cc.convert(row['price'], row['price_currency'])\n",
    "\n",
    "helpers.concat_collumn(df, ['price', 'price_currency'], 'price', currencyConvert)"
   ]
  },
  {
   "cell_type": "markdown",
   "metadata": {},
   "source": [
    "## Сохранение отфильтрованных данных"
   ]
  },
  {
   "cell_type": "code",
   "execution_count": 11,
   "metadata": {},
   "outputs": [],
   "source": [
    "df.to_csv('filtred_data.csv')"
   ]
  },
  {
   "cell_type": "code",
   "execution_count": 12,
   "metadata": {},
   "outputs": [
    {
     "output_type": "execute_result",
     "data": {
      "text/plain": "        sub_type start_date  end_date  listing_type  tom building_age  \\\nid                                                                      \n1       Rezidans   12/10/18    1/9/19             2   30            0   \n2          Daire    2/13/19       NaN             1   14            0   \n3          Daire    10/9/18   11/8/18             1   30            0   \n4       Rezidans    9/10/18  10/10/18             1   30            3   \n5       Rezidans   12/10/18    1/9/19             1   30            0   \n...          ...        ...       ...           ...  ...          ...   \n403483     Daire    9/18/18       NaN             2  162          NaN   \n403484     Daire   10/11/18       NaN             1  139          NaN   \n403485     Daire   11/22/18       NaN             1   97          NaN   \n403486     Daire    2/21/19       NaN             2    6          NaN   \n403487     Daire    1/15/19   1/18/19             1    3          NaN   \n\n       total_floor_count      floor_no   size heating_type       price  \\\nid                                                                       \n1            20 ve üzeri             2   90.0      Fancoil      3500.0   \n2            20 ve üzeri   20 ve üzeri   43.0      Fancoil    490000.0   \n3                      1  Yüksek Giriş    NaN      Fancoil    155000.0   \n4            20 ve üzeri   20 ve üzeri  450.0      Fancoil  32500000.0   \n5            20 ve üzeri             2   90.0      Fancoil   1450000.0   \n...                  ...           ...    ...          ...         ...   \n403483               NaN           NaN    NaN          NaN      1500.0   \n403484               NaN           NaN    NaN          NaN    120000.0   \n403485               NaN           NaN    NaN          NaN     48000.0   \n403486               NaN           NaN    2.0          NaN       900.0   \n403487               NaN           NaN  140.0          NaN    210000.0   \n\n       price_currency  address1     address2     addres2  livingroom_count  \\\nid                                                                           \n1                 TRY  İstanbul       Kartal  Kordonboyu               1.0   \n2                 TRY  İstanbul       Kartal  Kordonboyu               0.0   \n3                 TRY  Tekirdağ        Çorlu    Reşadiye               1.0   \n4                 TRY  İstanbul     Beşiktaş      Levent               1.0   \n5                 TRY  İstanbul       Kartal  Kordonboyu               1.0   \n...               ...       ...          ...         ...               ...   \n403483            TRY  İstanbul  Sultanbeyli        Adil               NaN   \n403484            TRY   Sakarya    Adapazarı  Cumhuriyet               1.0   \n403485            EUR   Antalya       Alanya       Saray               1.0   \n403486            TRY     Aydın     Kuşadası     Türkmen               1.0   \n403487            TRY   Kayseri    Melikgazi    Alpaslan               1.0   \n\n        room_count  \nid                  \n1              3.0  \n2              1.0  \n3              3.0  \n4              7.0  \n5              3.0  \n...            ...  \n403483         NaN  \n403484         3.0  \n403485         2.0  \n403486         3.0  \n403487         4.0  \n\n[402772 rows x 17 columns]",
      "text/html": "<div>\n<style scoped>\n    .dataframe tbody tr th:only-of-type {\n        vertical-align: middle;\n    }\n\n    .dataframe tbody tr th {\n        vertical-align: top;\n    }\n\n    .dataframe thead th {\n        text-align: right;\n    }\n</style>\n<table border=\"1\" class=\"dataframe\">\n  <thead>\n    <tr style=\"text-align: right;\">\n      <th></th>\n      <th>sub_type</th>\n      <th>start_date</th>\n      <th>end_date</th>\n      <th>listing_type</th>\n      <th>tom</th>\n      <th>building_age</th>\n      <th>total_floor_count</th>\n      <th>floor_no</th>\n      <th>size</th>\n      <th>heating_type</th>\n      <th>price</th>\n      <th>price_currency</th>\n      <th>address1</th>\n      <th>address2</th>\n      <th>addres2</th>\n      <th>livingroom_count</th>\n      <th>room_count</th>\n    </tr>\n    <tr>\n      <th>id</th>\n      <th></th>\n      <th></th>\n      <th></th>\n      <th></th>\n      <th></th>\n      <th></th>\n      <th></th>\n      <th></th>\n      <th></th>\n      <th></th>\n      <th></th>\n      <th></th>\n      <th></th>\n      <th></th>\n      <th></th>\n      <th></th>\n      <th></th>\n    </tr>\n  </thead>\n  <tbody>\n    <tr>\n      <th>1</th>\n      <td>Rezidans</td>\n      <td>12/10/18</td>\n      <td>1/9/19</td>\n      <td>2</td>\n      <td>30</td>\n      <td>0</td>\n      <td>20 ve üzeri</td>\n      <td>2</td>\n      <td>90.0</td>\n      <td>Fancoil</td>\n      <td>3500.0</td>\n      <td>TRY</td>\n      <td>İstanbul</td>\n      <td>Kartal</td>\n      <td>Kordonboyu</td>\n      <td>1.0</td>\n      <td>3.0</td>\n    </tr>\n    <tr>\n      <th>2</th>\n      <td>Daire</td>\n      <td>2/13/19</td>\n      <td>NaN</td>\n      <td>1</td>\n      <td>14</td>\n      <td>0</td>\n      <td>20 ve üzeri</td>\n      <td>20 ve üzeri</td>\n      <td>43.0</td>\n      <td>Fancoil</td>\n      <td>490000.0</td>\n      <td>TRY</td>\n      <td>İstanbul</td>\n      <td>Kartal</td>\n      <td>Kordonboyu</td>\n      <td>0.0</td>\n      <td>1.0</td>\n    </tr>\n    <tr>\n      <th>3</th>\n      <td>Daire</td>\n      <td>10/9/18</td>\n      <td>11/8/18</td>\n      <td>1</td>\n      <td>30</td>\n      <td>0</td>\n      <td>1</td>\n      <td>Yüksek Giriş</td>\n      <td>NaN</td>\n      <td>Fancoil</td>\n      <td>155000.0</td>\n      <td>TRY</td>\n      <td>Tekirdağ</td>\n      <td>Çorlu</td>\n      <td>Reşadiye</td>\n      <td>1.0</td>\n      <td>3.0</td>\n    </tr>\n    <tr>\n      <th>4</th>\n      <td>Rezidans</td>\n      <td>9/10/18</td>\n      <td>10/10/18</td>\n      <td>1</td>\n      <td>30</td>\n      <td>3</td>\n      <td>20 ve üzeri</td>\n      <td>20 ve üzeri</td>\n      <td>450.0</td>\n      <td>Fancoil</td>\n      <td>32500000.0</td>\n      <td>TRY</td>\n      <td>İstanbul</td>\n      <td>Beşiktaş</td>\n      <td>Levent</td>\n      <td>1.0</td>\n      <td>7.0</td>\n    </tr>\n    <tr>\n      <th>5</th>\n      <td>Rezidans</td>\n      <td>12/10/18</td>\n      <td>1/9/19</td>\n      <td>1</td>\n      <td>30</td>\n      <td>0</td>\n      <td>20 ve üzeri</td>\n      <td>2</td>\n      <td>90.0</td>\n      <td>Fancoil</td>\n      <td>1450000.0</td>\n      <td>TRY</td>\n      <td>İstanbul</td>\n      <td>Kartal</td>\n      <td>Kordonboyu</td>\n      <td>1.0</td>\n      <td>3.0</td>\n    </tr>\n    <tr>\n      <th>...</th>\n      <td>...</td>\n      <td>...</td>\n      <td>...</td>\n      <td>...</td>\n      <td>...</td>\n      <td>...</td>\n      <td>...</td>\n      <td>...</td>\n      <td>...</td>\n      <td>...</td>\n      <td>...</td>\n      <td>...</td>\n      <td>...</td>\n      <td>...</td>\n      <td>...</td>\n      <td>...</td>\n      <td>...</td>\n    </tr>\n    <tr>\n      <th>403483</th>\n      <td>Daire</td>\n      <td>9/18/18</td>\n      <td>NaN</td>\n      <td>2</td>\n      <td>162</td>\n      <td>NaN</td>\n      <td>NaN</td>\n      <td>NaN</td>\n      <td>NaN</td>\n      <td>NaN</td>\n      <td>1500.0</td>\n      <td>TRY</td>\n      <td>İstanbul</td>\n      <td>Sultanbeyli</td>\n      <td>Adil</td>\n      <td>NaN</td>\n      <td>NaN</td>\n    </tr>\n    <tr>\n      <th>403484</th>\n      <td>Daire</td>\n      <td>10/11/18</td>\n      <td>NaN</td>\n      <td>1</td>\n      <td>139</td>\n      <td>NaN</td>\n      <td>NaN</td>\n      <td>NaN</td>\n      <td>NaN</td>\n      <td>NaN</td>\n      <td>120000.0</td>\n      <td>TRY</td>\n      <td>Sakarya</td>\n      <td>Adapazarı</td>\n      <td>Cumhuriyet</td>\n      <td>1.0</td>\n      <td>3.0</td>\n    </tr>\n    <tr>\n      <th>403485</th>\n      <td>Daire</td>\n      <td>11/22/18</td>\n      <td>NaN</td>\n      <td>1</td>\n      <td>97</td>\n      <td>NaN</td>\n      <td>NaN</td>\n      <td>NaN</td>\n      <td>NaN</td>\n      <td>NaN</td>\n      <td>48000.0</td>\n      <td>EUR</td>\n      <td>Antalya</td>\n      <td>Alanya</td>\n      <td>Saray</td>\n      <td>1.0</td>\n      <td>2.0</td>\n    </tr>\n    <tr>\n      <th>403486</th>\n      <td>Daire</td>\n      <td>2/21/19</td>\n      <td>NaN</td>\n      <td>2</td>\n      <td>6</td>\n      <td>NaN</td>\n      <td>NaN</td>\n      <td>NaN</td>\n      <td>2.0</td>\n      <td>NaN</td>\n      <td>900.0</td>\n      <td>TRY</td>\n      <td>Aydın</td>\n      <td>Kuşadası</td>\n      <td>Türkmen</td>\n      <td>1.0</td>\n      <td>3.0</td>\n    </tr>\n    <tr>\n      <th>403487</th>\n      <td>Daire</td>\n      <td>1/15/19</td>\n      <td>1/18/19</td>\n      <td>1</td>\n      <td>3</td>\n      <td>NaN</td>\n      <td>NaN</td>\n      <td>NaN</td>\n      <td>140.0</td>\n      <td>NaN</td>\n      <td>210000.0</td>\n      <td>TRY</td>\n      <td>Kayseri</td>\n      <td>Melikgazi</td>\n      <td>Alpaslan</td>\n      <td>1.0</td>\n      <td>4.0</td>\n    </tr>\n  </tbody>\n</table>\n<p>402772 rows × 17 columns</p>\n</div>"
     },
     "metadata": {},
     "execution_count": 12
    }
   ],
   "source": [
    "    df"
   ]
  }
 ],
 "metadata": {
  "kernelspec": {
   "display_name": "Python 3.8.5 64-bit ('venv': venv)",
   "language": "python",
   "name": "python38564bitvenvvenvab8861d9fd5b4b6fbeb9894a58ae3597"
  },
  "language_info": {
   "codemirror_mode": {
    "name": "ipython",
    "version": 3
   },
   "file_extension": ".py",
   "mimetype": "text/x-python",
   "name": "python",
   "nbconvert_exporter": "python",
   "pygments_lexer": "ipython3",
   "version": "3.8.5-final"
  }
 },
 "nbformat": 4,
 "nbformat_minor": 4
}