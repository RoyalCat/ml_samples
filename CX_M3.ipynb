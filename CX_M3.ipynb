{
 "cells": [
  {
   "cell_type": "markdown",
   "metadata": {},
   "source": [
    "# Обучение модели"
   ]
  },
  {
   "cell_type": "markdown",
   "metadata": {},
   "source": [
    "### Установка и импорт неообходимых модулей"
   ]
  },
  {
   "cell_type": "code",
   "execution_count": 1,
   "metadata": {
    "tags": []
   },
   "outputs": [
    {
     "name": "stdout",
     "output_type": "stream",
     "text": [
      "Requirement already satisfied: pandas in /home/royalcat/anaconda3/envs/wsrhelper/lib/python3.8/site-packages (1.1.1)\n",
      "Requirement already satisfied: sklearn in /home/royalcat/anaconda3/envs/wsrhelper/lib/python3.8/site-packages (0.0)\n",
      "Requirement already satisfied: catboost in /home/royalcat/anaconda3/envs/wsrhelper/lib/python3.8/site-packages (0.24.1)\n",
      "Requirement already satisfied: tqdm in /home/royalcat/anaconda3/envs/wsrhelper/lib/python3.8/site-packages (4.48.2)\n",
      "Requirement already satisfied: xgboost in /home/royalcat/anaconda3/envs/wsrhelper/lib/python3.8/site-packages (1.2.0)\n",
      "Requirement already satisfied: numpy>=1.15.4 in /home/royalcat/anaconda3/envs/wsrhelper/lib/python3.8/site-packages (from pandas) (1.19.1)\n",
      "Requirement already satisfied: pytz>=2017.2 in /home/royalcat/anaconda3/envs/wsrhelper/lib/python3.8/site-packages (from pandas) (2020.1)\n",
      "Requirement already satisfied: python-dateutil>=2.7.3 in /home/royalcat/anaconda3/envs/wsrhelper/lib/python3.8/site-packages (from pandas) (2.8.1)\n",
      "Requirement already satisfied: scikit-learn in /home/royalcat/anaconda3/envs/wsrhelper/lib/python3.8/site-packages (from sklearn) (0.23.2)\n",
      "Requirement already satisfied: scipy in /home/royalcat/anaconda3/envs/wsrhelper/lib/python3.8/site-packages (from catboost) (1.5.2)\n",
      "Requirement already satisfied: plotly in /home/royalcat/anaconda3/envs/wsrhelper/lib/python3.8/site-packages (from catboost) (4.9.0)\n",
      "Requirement already satisfied: matplotlib in /home/royalcat/anaconda3/envs/wsrhelper/lib/python3.8/site-packages (from catboost) (3.3.1)\n",
      "Requirement already satisfied: graphviz in /home/royalcat/anaconda3/envs/wsrhelper/lib/python3.8/site-packages (from catboost) (0.14.1)\n",
      "Requirement already satisfied: six in /home/royalcat/anaconda3/envs/wsrhelper/lib/python3.8/site-packages (from catboost) (1.15.0)\n",
      "Requirement already satisfied: joblib>=0.11 in /home/royalcat/anaconda3/envs/wsrhelper/lib/python3.8/site-packages (from scikit-learn->sklearn) (0.16.0)\n",
      "Requirement already satisfied: threadpoolctl>=2.0.0 in /home/royalcat/anaconda3/envs/wsrhelper/lib/python3.8/site-packages (from scikit-learn->sklearn) (2.1.0)\n",
      "Requirement already satisfied: retrying>=1.3.3 in /home/royalcat/anaconda3/envs/wsrhelper/lib/python3.8/site-packages (from plotly->catboost) (1.3.3)\n",
      "Requirement already satisfied: kiwisolver>=1.0.1 in /home/royalcat/anaconda3/envs/wsrhelper/lib/python3.8/site-packages (from matplotlib->catboost) (1.2.0)\n",
      "Requirement already satisfied: pyparsing!=2.0.4,!=2.1.2,!=2.1.6,>=2.0.3 in /home/royalcat/anaconda3/envs/wsrhelper/lib/python3.8/site-packages (from matplotlib->catboost) (2.4.7)\n",
      "Requirement already satisfied: pillow>=6.2.0 in /home/royalcat/anaconda3/envs/wsrhelper/lib/python3.8/site-packages (from matplotlib->catboost) (7.2.0)\n",
      "Requirement already satisfied: certifi>=2020.06.20 in /home/royalcat/anaconda3/envs/wsrhelper/lib/python3.8/site-packages (from matplotlib->catboost) (2020.6.20)\n",
      "Requirement already satisfied: cycler>=0.10 in /home/royalcat/anaconda3/envs/wsrhelper/lib/python3.8/site-packages (from matplotlib->catboost) (0.10.0)\n"
     ]
    }
   ],
   "source": [
    "!pip install pandas sklearn catboost tqdm xgboost"
   ]
  },
  {
   "cell_type": "code",
   "execution_count": 2,
   "metadata": {},
   "outputs": [],
   "source": [
    "import numpy as np\n",
    "import pickle\n",
    "from tqdm import tqdm\n",
    "import pandas as pd\n",
    "import re\n",
    "from sklearn.feature_extraction.text import CountVectorizer\n",
    "from sklearn.feature_extraction.text import TfidfVectorizer"
   ]
  },
  {
   "cell_type": "markdown",
   "metadata": {},
   "source": [
    "### Загрузка данных"
   ]
  },
  {
   "cell_type": "code",
   "execution_count": 3,
   "metadata": {
    "tags": []
   },
   "outputs": [],
   "source": [
    "df = pd.read_csv(\"uncoded_data.csv\", index_col=0)\n",
    "target = 'price'"
   ]
  },
  {
   "cell_type": "markdown",
   "metadata": {},
   "source": [
    "## Препроцессинг"
   ]
  },
  {
   "cell_type": "markdown",
   "metadata": {},
   "source": [
    "###  Кодирование нечисловых значений"
   ]
  },
  {
   "cell_type": "code",
   "execution_count": 4,
   "metadata": {
    "tags": []
   },
   "outputs": [
    {
     "name": "stderr",
     "output_type": "stream",
     "text": [
      "100%|██████████| 16/16 [00:00<00:00, 6254.90it/s]\n"
     ]
    }
   ],
   "source": [
    "les = {}\n",
    "for name in tqdm(df.columns):\n",
    "    if df[name].dtypes == object or df[name].dtypes == bool:\n",
    "        df[name].fillna(\"-9999999\")\n",
    "        les[name] = preprocessing.LabelEncoder()\n",
    "        df[name] = les[name].fit_transform(df[name].apply(str))"
   ]
  },
  {
   "cell_type": "code",
   "execution_count": 5,
   "metadata": {},
   "outputs": [],
   "source": [
    "df = df.dropna()"
   ]
  },
  {
   "cell_type": "markdown",
   "metadata": {},
   "source": [
    "#### Сохранение моделей кодировшиков для разкодирования в будуюшем"
   ]
  },
  {
   "cell_type": "code",
   "execution_count": 6,
   "metadata": {},
   "outputs": [],
   "source": [
    "with open('les.pkl', 'wb') as output:\n",
    "    pickle.dump(les, output)"
   ]
  },
  {
   "cell_type": "markdown",
   "metadata": {},
   "source": [
    "# Обучение модели"
   ]
  },
  {
   "cell_type": "markdown",
   "metadata": {},
   "source": [
    "Определим функцию для разделения датасета на тестовую и тренировчную выборку для независимого тестирования точности модели"
   ]
  },
  {
   "cell_type": "code",
   "execution_count": 7,
   "metadata": {},
   "outputs": [],
   "source": [
    "from sklearn.model_selection import train_test_split\n",
    "\n",
    "def split_data(df, target):\n",
    "    target_data = df[target]\n",
    "    features_data = df.drop(target,axis=1)\n",
    "    return train_test_split(features_data, target_data, test_size=0.15)"
   ]
  },
  {
   "cell_type": "code",
   "execution_count": 8,
   "metadata": {},
   "outputs": [],
   "source": [
    "# Подключение библиотек с моделями\n",
    "from sklearn.ensemble import RandomForestClassifier\n",
    "from sklearn.neighbors import KNeighborsClassifier\n",
    "from xgboost import XGBClassifier\n",
    "from catboost import CatBoostClassifier"
   ]
  },
  {
   "cell_type": "code",
   "execution_count": 9,
   "metadata": {},
   "outputs": [],
   "source": [
    "from catboost import CatBoostRegressor\n",
    "from xgboost import XGBRegressor\n",
    "from sklearn.ensemble import RandomForestRegressor\n",
    "from sklearn.neighbors import KNeighborsRegressor"
   ]
  },
  {
   "cell_type": "markdown",
   "metadata": {},
   "source": [
    "Подберем параметры которые максиально улучшат и оптимизируют процесс обучения,  \n",
    "создадим функцию для удобного тестирования моделей"
   ]
  },
  {
   "cell_type": "code",
   "execution_count": 10,
   "metadata": {},
   "outputs": [],
   "source": [
    "\n",
    "def test_models(x_train, x_test, y_train, y_test):\n",
    "    models_list = [\n",
    "        XGBRegressor(),\n",
    "        CatBoostRegressor(silent=True),\n",
    "        RandomForestRegressor(),\n",
    "        KNeighborsRegressor(),\n",
    "    ]\n",
    "\n",
    "    for model in tqdm(models_list):\n",
    "        score = cross_val_score(model, x_train, y_train)\n",
    "        #model.fit(x_train, y_train)\n",
    "        tqdm.write(\"\\nТочность кросс-валидации\" + str(type(model).__name__) + \": \" + str(model.score(x_test, y_test)))\n",
    "        tqdm.write(\"\\nТочность \" + str(type(model).__name__) + \": \" + str(model.score(x_test, y_test)))\n",
    "    return models_list*split_data(df, target))*split_data(df, target))"
   ]
  },
  {
   "cell_type": "markdown",
   "metadata": {},
   "source": [
    "Обучим три модели и сравним их показатели"
   ]
  },
  {
   "cell_type": "code",
   "execution_count": 11,
   "metadata": {
    "tags": []
   },
   "outputs": [
    {
     "name": "stderr",
     "output_type": "stream",
     "text": [
      "25%|██▌       | 1/4 [00:18<00:56, 18.76s/it]\n",
      "Точность XGBRegressor: -3318.2816985510444%\n",
      " 50%|█████     | 2/4 [00:51<00:45, 22.92s/it]\n",
      "Точность CatBoostRegressor: -80.77932994110529%\n",
      " 75%|███████▌  | 3/4 [04:50<01:27, 87.77s/it]\n",
      "Точность RandomForestRegressor: -75.86963998489176%\n",
      "100%|██████████| 4/4 [04:56<00:00, 74.05s/it]\n",
      "Точность KNeighborsRegressor: -157.30406155792508%\n",
      "\n"
     ]
    }
   ],
   "source": [
    "models_list = test_models(*split_data(df, target))"
   ]
  },
  {
   "cell_type": "code",
   "execution_count": 12,
   "metadata": {
    "tags": []
   },
   "outputs": [
    {
     "ename": "NameError",
     "evalue": "name 'regressor' is not defined",
     "output_type": "error",
     "traceback": [
      "\u001b[0;31m---------------------------------------------------------------------------\u001b[0m",
      "\u001b[0;31mNameError\u001b[0m                                 Traceback (most recent call last)",
      "\u001b[0;32m<ipython-input-12-0370fd2a086e>\u001b[0m in \u001b[0;36m<module>\u001b[0;34m\u001b[0m\n\u001b[1;32m      1\u001b[0m \u001b[0;32mfor\u001b[0m \u001b[0mmodel\u001b[0m \u001b[0;32min\u001b[0m \u001b[0mmodels_list\u001b[0m\u001b[0;34m:\u001b[0m\u001b[0;34m\u001b[0m\u001b[0;34m\u001b[0m\u001b[0m\n\u001b[0;32m----> 2\u001b[0;31m     \u001b[0mprint\u001b[0m\u001b[0;34m(\u001b[0m\u001b[0;34m\"Точность \"\u001b[0m \u001b[0;34m+\u001b[0m \u001b[0mstr\u001b[0m\u001b[0;34m(\u001b[0m\u001b[0mtype\u001b[0m\u001b[0;34m(\u001b[0m\u001b[0mregressor\u001b[0m\u001b[0;34m)\u001b[0m\u001b[0;34m.\u001b[0m\u001b[0m__name__\u001b[0m\u001b[0;34m)\u001b[0m \u001b[0;34m+\u001b[0m \u001b[0;34m\": \"\u001b[0m \u001b[0;34m+\u001b[0m \u001b[0mstr\u001b[0m\u001b[0;34m(\u001b[0m\u001b[0mregressor\u001b[0m\u001b[0;34m.\u001b[0m\u001b[0mscore\u001b[0m\u001b[0;34m(\u001b[0m\u001b[0mx_test\u001b[0m\u001b[0;34m,\u001b[0m \u001b[0my_test\u001b[0m\u001b[0;34m)\u001b[0m\u001b[0;34m*\u001b[0m\u001b[0;36m100\u001b[0m\u001b[0;34m)\u001b[0m\u001b[0;34m+\u001b[0m\u001b[0;34m\"%\"\u001b[0m\u001b[0;34m)\u001b[0m\u001b[0;34m\u001b[0m\u001b[0;34m\u001b[0m\u001b[0m\n\u001b[0m",
      "\u001b[0;31mNameError\u001b[0m: name 'regressor' is not defined"
     ]
    }
   ],
   "source": [
    "for model in models_list:\n",
    "    print(\"Точность \" + str(type(regressor).__name__) + \": \" + str(regressor.score(x_test, y_test)))"
   ]
  },
  {
   "cell_type": "markdown",
   "metadata": {},
   "source": [
    "Посмотрев на результаты тестирования моделей можно сказать, что метод градиентного бустинга и метода сучайных деревьев очень схожи по точности, а точность метода ближайших соседей заметно меньше остальных двух.  Схожесть методов градиентного бустинга и случайных деревьев можно обьяснить, концептуальной схожестью алгоритмов: оба строят логические деревья."
   ]
  },
  {
   "cell_type": "markdown",
   "metadata": {},
   "source": [
    "# Feature engenering"
   ]
  },
  {
   "cell_type": "markdown",
   "metadata": {},
   "source": [
    "## Обучение моделей на обработаных данных"
   ]
  },
  {
   "cell_type": "code",
   "execution_count": null,
   "metadata": {},
   "outputs": [],
   "source": [
    "models_list = test_models(*split_data(df, target))"
   ]
  },
  {
   "cell_type": "markdown",
   "metadata": {},
   "source": [
    "Как видно из вывода выше, реинженеринг фич помог увеличить точность моей целевой модели (градиентный бустинг) на 3%. На таком небольшом наборе данных это очень солидный прирост точности, даже не смотря на то, что точность метода ближайших соседей уменьшилась. Все вышеперечисленное доказывает, что выбраная мной модель действительно самая подходящая для данных задач"
   ]
  },
  {
   "cell_type": "markdown",
   "metadata": {},
   "source": [
    "## Сохранение лучшей модели для дальнейшего использования"
   ]
  },
  {
   "cell_type": "code",
   "execution_count": 42,
   "metadata": {},
   "outputs": [],
   "source": [
    "with open('model.pkl', 'wb') as output:\n",
    "    pickle.dump(models_list[0], output)"
   ]
  }
 ],
 "metadata": {
  "kernelspec": {
   "display_name": "Python 3",
   "language": "python",
   "name": "python3"
  },
  "language_info": {
   "codemirror_mode": {
    "name": "ipython",
    "version": 3
   },
   "file_extension": ".py",
   "mimetype": "text/x-python",
   "name": "python",
   "nbconvert_exporter": "python",
   "pygments_lexer": "ipython3",
   "version": "3.8.5"
  }
 },
 "nbformat": 4,
 "nbformat_minor": 4
}
