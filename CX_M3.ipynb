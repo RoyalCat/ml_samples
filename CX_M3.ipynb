{
 "cells": [
  {
   "cell_type": "markdown",
   "metadata": {},
   "source": [
    "# Обучение модели"
   ]
  },
  {
   "cell_type": "markdown",
   "metadata": {},
   "source": [
    "### Установка и импорт неообходимых модулей"
   ]
  },
  {
   "cell_type": "code",
   "execution_count": 2,
   "metadata": {
    "tags": []
   },
   "outputs": [
    {
     "output_type": "stream",
     "name": "stdout",
     "text": "Requirement already satisfied: pandas in /home/royalcat/anaconda3/envs/wsrhelper/lib/python3.8/site-packages (1.1.1)\nRequirement already satisfied: sklearn in /home/royalcat/anaconda3/envs/wsrhelper/lib/python3.8/site-packages (0.0)\nRequirement already satisfied: catboost in /home/royalcat/anaconda3/envs/wsrhelper/lib/python3.8/site-packages (0.24.1)\nRequirement already satisfied: tqdm in /home/royalcat/anaconda3/envs/wsrhelper/lib/python3.8/site-packages (4.48.2)\nRequirement already satisfied: numpy>=1.15.4 in /home/royalcat/anaconda3/envs/wsrhelper/lib/python3.8/site-packages (from pandas) (1.19.1)\nRequirement already satisfied: python-dateutil>=2.7.3 in /home/royalcat/anaconda3/envs/wsrhelper/lib/python3.8/site-packages (from pandas) (2.8.1)\nRequirement already satisfied: pytz>=2017.2 in /home/royalcat/anaconda3/envs/wsrhelper/lib/python3.8/site-packages (from pandas) (2020.1)\nRequirement already satisfied: scikit-learn in /home/royalcat/anaconda3/envs/wsrhelper/lib/python3.8/site-packages (from sklearn) (0.23.2)\nRequirement already satisfied: six in /home/royalcat/anaconda3/envs/wsrhelper/lib/python3.8/site-packages (from catboost) (1.15.0)\nRequirement already satisfied: graphviz in /home/royalcat/anaconda3/envs/wsrhelper/lib/python3.8/site-packages (from catboost) (0.14.1)\nRequirement already satisfied: plotly in /home/royalcat/anaconda3/envs/wsrhelper/lib/python3.8/site-packages (from catboost) (4.9.0)\nRequirement already satisfied: scipy in /home/royalcat/anaconda3/envs/wsrhelper/lib/python3.8/site-packages (from catboost) (1.5.2)\nRequirement already satisfied: matplotlib in /home/royalcat/anaconda3/envs/wsrhelper/lib/python3.8/site-packages (from catboost) (3.3.1)\nRequirement already satisfied: joblib>=0.11 in /home/royalcat/anaconda3/envs/wsrhelper/lib/python3.8/site-packages (from scikit-learn->sklearn) (0.16.0)\nRequirement already satisfied: threadpoolctl>=2.0.0 in /home/royalcat/anaconda3/envs/wsrhelper/lib/python3.8/site-packages (from scikit-learn->sklearn) (2.1.0)\nRequirement already satisfied: retrying>=1.3.3 in /home/royalcat/anaconda3/envs/wsrhelper/lib/python3.8/site-packages (from plotly->catboost) (1.3.3)\nRequirement already satisfied: certifi>=2020.06.20 in /home/royalcat/anaconda3/envs/wsrhelper/lib/python3.8/site-packages (from matplotlib->catboost) (2020.6.20)\nRequirement already satisfied: pillow>=6.2.0 in /home/royalcat/anaconda3/envs/wsrhelper/lib/python3.8/site-packages (from matplotlib->catboost) (7.2.0)\nRequirement already satisfied: kiwisolver>=1.0.1 in /home/royalcat/anaconda3/envs/wsrhelper/lib/python3.8/site-packages (from matplotlib->catboost) (1.2.0)\nRequirement already satisfied: cycler>=0.10 in /home/royalcat/anaconda3/envs/wsrhelper/lib/python3.8/site-packages (from matplotlib->catboost) (0.10.0)\nRequirement already satisfied: pyparsing!=2.0.4,!=2.1.2,!=2.1.6,>=2.0.3 in /home/royalcat/anaconda3/envs/wsrhelper/lib/python3.8/site-packages (from matplotlib->catboost) (2.4.7)\n"
    }
   ],
   "source": [
    "!pip install pandas sklearn catboost tqdm"
   ]
  },
  {
   "cell_type": "code",
   "execution_count": 3,
   "metadata": {},
   "outputs": [],
   "source": [
    "import numpy as np\n",
    "import pickle\n",
    "from tqdm import tqdm\n",
    "from sklearn.feature_extraction.text import CountVectorizer\n",
    "from sklearn.feature_extraction.text import TfidfVectorizer"
   ]
  },
  {
   "cell_type": "markdown",
   "metadata": {},
   "source": [
    "### Загрузка данных"
   ]
  },
  {
   "cell_type": "code",
   "execution_count": 4,
   "metadata": {},
   "outputs": [],
   "source": [
    "import pandas as pd\n",
    "import re\n",
    "df = pd.read_csv(\"uncoded_data.csv\")\n",
    "target = 'price'"
   ]
  },
  {
   "cell_type": "markdown",
   "metadata": {},
   "source": [
    "## Препроцессинг"
   ]
  },
  {
   "cell_type": "markdown",
   "metadata": {},
   "source": [
    "###  Кодирование нечисловых значений"
   ]
  },
  {
   "cell_type": "code",
   "execution_count": 5,
   "metadata": {
    "tags": []
   },
   "outputs": [
    {
     "output_type": "stream",
     "name": "stderr",
     "text": "100%|██████████| 17/17 [00:00<00:00, 1725.93it/s]\n"
    }
   ],
   "source": [
    "les = {}\n",
    "for name in tqdm(df.columns):\n",
    "    if df[name].dtypes == object or df[name].dtypes == bool:\n",
    "        df[name].fillna(\"-9999999\")\n",
    "        les[name] = preprocessing.LabelEncoder()\n",
    "        df[name] = les[name].fit_transform(df[name].apply(str))"
   ]
  },
  {
   "cell_type": "code",
   "execution_count": 6,
   "metadata": {},
   "outputs": [],
   "source": [
    "df = df.dropna()"
   ]
  },
  {
   "cell_type": "markdown",
   "metadata": {},
   "source": [
    "#### Сохранение моделей кодировшиков для разкодирования в будуюшем"
   ]
  },
  {
   "cell_type": "code",
   "execution_count": 7,
   "metadata": {},
   "outputs": [],
   "source": [
    "with open('les.pkl', 'wb') as output:\n",
    "    pickle.dump(les, output)"
   ]
  },
  {
   "cell_type": "markdown",
   "metadata": {},
   "source": [
    "# Обучение модели"
   ]
  },
  {
   "cell_type": "markdown",
   "metadata": {},
   "source": [
    "Разделим датасет на тестовую и тренировчную выборку для независимого тестирования точности модели"
   ]
  },
  {
   "cell_type": "code",
   "execution_count": 8,
   "metadata": {},
   "outputs": [],
   "source": [
    "from sklearn.model_selection import train_test_split\n",
    "target_data = df[target].values\n",
    "features_data = df.drop(target,axis=1).values\n",
    "x_train, x_test, y_train, y_test = train_test_split(features_data, target_data, test_size=0.15)"
   ]
  },
  {
   "cell_type": "code",
   "execution_count": 9,
   "metadata": {},
   "outputs": [],
   "source": [
    "# Подключение библиотек с моделями\n",
    "from sklearn.ensemble import RandomForestClassifier\n",
    "from sklearn.neighbors import KNeighborsClassifier\n",
    "from catboost import CatBoostClassifier"
   ]
  },
  {
   "cell_type": "markdown",
   "metadata": {},
   "source": [
    "Подберем параметры которые максиально улучшат и оптимизируют процесс обучения,  \n",
    "создадим экземпляры моделей с этими параметрами"
   ]
  },
  {
   "cell_type": "markdown",
   "metadata": {},
   "source": [
    "Обучим три модели и сравним их показатели"
   ]
  },
  {
   "cell_type": "code",
   "execution_count": 10,
   "metadata": {},
   "outputs": [],
   "source": [
    "# Создание экземпляров классификаторов\n",
    "RFC = RandomForestClassifier()\n",
    "CBC = CatBoostClassifier(iterations=10)\n",
    "KNC = KNeighborsClassifier()"
   ]
  },
  {
   "cell_type": "code",
   "execution_count": 12,
   "metadata": {
    "scrolled": true,
    "tags": []
   },
   "outputs": [
    {
     "output_type": "error",
     "ename": "ValueError",
     "evalue": "Unknown label type: 'continuous'",
     "traceback": [
      "\u001b[0;31m---------------------------------------------------------------------------\u001b[0m",
      "\u001b[0;31mValueError\u001b[0m                                Traceback (most recent call last)",
      "\u001b[0;32m<ipython-input-12-8b23e3b5f076>\u001b[0m in \u001b[0;36m<module>\u001b[0;34m\u001b[0m\n\u001b[1;32m      1\u001b[0m \u001b[0;31m#KNC.fit(x_train, y_train)\u001b[0m\u001b[0;34m\u001b[0m\u001b[0;34m\u001b[0m\u001b[0;34m\u001b[0m\u001b[0m\n\u001b[1;32m      2\u001b[0m \u001b[0;31m#CBC.fit(x_train, y_train)\u001b[0m\u001b[0;34m\u001b[0m\u001b[0;34m\u001b[0m\u001b[0;34m\u001b[0m\u001b[0m\n\u001b[0;32m----> 3\u001b[0;31m \u001b[0mRFC\u001b[0m\u001b[0;34m.\u001b[0m\u001b[0mfit\u001b[0m\u001b[0;34m(\u001b[0m\u001b[0mx_train\u001b[0m\u001b[0;34m,\u001b[0m \u001b[0my_train\u001b[0m\u001b[0;34m)\u001b[0m\u001b[0;34m\u001b[0m\u001b[0;34m\u001b[0m\u001b[0m\n\u001b[0m",
      "\u001b[0;32m~/anaconda3/envs/wsrhelper/lib/python3.8/site-packages/sklearn/ensemble/_forest.py\u001b[0m in \u001b[0;36mfit\u001b[0;34m(self, X, y, sample_weight)\u001b[0m\n\u001b[1;32m    328\u001b[0m         \u001b[0mself\u001b[0m\u001b[0;34m.\u001b[0m\u001b[0mn_outputs_\u001b[0m \u001b[0;34m=\u001b[0m \u001b[0my\u001b[0m\u001b[0;34m.\u001b[0m\u001b[0mshape\u001b[0m\u001b[0;34m[\u001b[0m\u001b[0;36m1\u001b[0m\u001b[0;34m]\u001b[0m\u001b[0;34m\u001b[0m\u001b[0;34m\u001b[0m\u001b[0m\n\u001b[1;32m    329\u001b[0m \u001b[0;34m\u001b[0m\u001b[0m\n\u001b[0;32m--> 330\u001b[0;31m         \u001b[0my\u001b[0m\u001b[0;34m,\u001b[0m \u001b[0mexpanded_class_weight\u001b[0m \u001b[0;34m=\u001b[0m \u001b[0mself\u001b[0m\u001b[0;34m.\u001b[0m\u001b[0m_validate_y_class_weight\u001b[0m\u001b[0;34m(\u001b[0m\u001b[0my\u001b[0m\u001b[0;34m)\u001b[0m\u001b[0;34m\u001b[0m\u001b[0;34m\u001b[0m\u001b[0m\n\u001b[0m\u001b[1;32m    331\u001b[0m \u001b[0;34m\u001b[0m\u001b[0m\n\u001b[1;32m    332\u001b[0m         \u001b[0;32mif\u001b[0m \u001b[0mgetattr\u001b[0m\u001b[0;34m(\u001b[0m\u001b[0my\u001b[0m\u001b[0;34m,\u001b[0m \u001b[0;34m\"dtype\"\u001b[0m\u001b[0;34m,\u001b[0m \u001b[0;32mNone\u001b[0m\u001b[0;34m)\u001b[0m \u001b[0;34m!=\u001b[0m \u001b[0mDOUBLE\u001b[0m \u001b[0;32mor\u001b[0m \u001b[0;32mnot\u001b[0m \u001b[0my\u001b[0m\u001b[0;34m.\u001b[0m\u001b[0mflags\u001b[0m\u001b[0;34m.\u001b[0m\u001b[0mcontiguous\u001b[0m\u001b[0;34m:\u001b[0m\u001b[0;34m\u001b[0m\u001b[0;34m\u001b[0m\u001b[0m\n",
      "\u001b[0;32m~/anaconda3/envs/wsrhelper/lib/python3.8/site-packages/sklearn/ensemble/_forest.py\u001b[0m in \u001b[0;36m_validate_y_class_weight\u001b[0;34m(self, y)\u001b[0m\n\u001b[1;32m    556\u001b[0m \u001b[0;34m\u001b[0m\u001b[0m\n\u001b[1;32m    557\u001b[0m     \u001b[0;32mdef\u001b[0m \u001b[0m_validate_y_class_weight\u001b[0m\u001b[0;34m(\u001b[0m\u001b[0mself\u001b[0m\u001b[0;34m,\u001b[0m \u001b[0my\u001b[0m\u001b[0;34m)\u001b[0m\u001b[0;34m:\u001b[0m\u001b[0;34m\u001b[0m\u001b[0;34m\u001b[0m\u001b[0m\n\u001b[0;32m--> 558\u001b[0;31m         \u001b[0mcheck_classification_targets\u001b[0m\u001b[0;34m(\u001b[0m\u001b[0my\u001b[0m\u001b[0;34m)\u001b[0m\u001b[0;34m\u001b[0m\u001b[0;34m\u001b[0m\u001b[0m\n\u001b[0m\u001b[1;32m    559\u001b[0m \u001b[0;34m\u001b[0m\u001b[0m\n\u001b[1;32m    560\u001b[0m         \u001b[0my\u001b[0m \u001b[0;34m=\u001b[0m \u001b[0mnp\u001b[0m\u001b[0;34m.\u001b[0m\u001b[0mcopy\u001b[0m\u001b[0;34m(\u001b[0m\u001b[0my\u001b[0m\u001b[0;34m)\u001b[0m\u001b[0;34m\u001b[0m\u001b[0;34m\u001b[0m\u001b[0m\n",
      "\u001b[0;32m~/anaconda3/envs/wsrhelper/lib/python3.8/site-packages/sklearn/utils/multiclass.py\u001b[0m in \u001b[0;36mcheck_classification_targets\u001b[0;34m(y)\u001b[0m\n\u001b[1;32m    170\u001b[0m     if y_type not in ['binary', 'multiclass', 'multiclass-multioutput',\n\u001b[1;32m    171\u001b[0m                       'multilabel-indicator', 'multilabel-sequences']:\n\u001b[0;32m--> 172\u001b[0;31m         \u001b[0;32mraise\u001b[0m \u001b[0mValueError\u001b[0m\u001b[0;34m(\u001b[0m\u001b[0;34m\"Unknown label type: %r\"\u001b[0m \u001b[0;34m%\u001b[0m \u001b[0my_type\u001b[0m\u001b[0;34m)\u001b[0m\u001b[0;34m\u001b[0m\u001b[0;34m\u001b[0m\u001b[0m\n\u001b[0m\u001b[1;32m    173\u001b[0m \u001b[0;34m\u001b[0m\u001b[0m\n\u001b[1;32m    174\u001b[0m \u001b[0;34m\u001b[0m\u001b[0m\n",
      "\u001b[0;31mValueError\u001b[0m: Unknown label type: 'continuous'"
     ]
    }
   ],
   "source": [
    "KNC.fit(x_train, y_train)\n",
    "CBC.fit(x_train, y_train)\n",
    "RFC.fit(x_train, y_train)"
   ]
  },
  {
   "cell_type": "markdown",
   "metadata": {},
   "source": [
    "Точность из вывода выше, это проценты в нормализованном виде, т.е. умножив получившееся числа на 100% мы получим точность в процентах."
   ]
  },
  {
   "cell_type": "code",
   "execution_count": 11,
   "metadata": {},
   "outputs": [
    {
     "output_type": "error",
     "ename": "NotFittedError",
     "evalue": "This RandomForestClassifier instance is not fitted yet. Call 'fit' with appropriate arguments before using this estimator.",
     "traceback": [
      "\u001b[0;31m---------------------------------------------------------------------------\u001b[0m",
      "\u001b[0;31mNotFittedError\u001b[0m                            Traceback (most recent call last)",
      "\u001b[0;32m<ipython-input-11-56d5805e81c5>\u001b[0m in \u001b[0;36m<module>\u001b[0;34m\u001b[0m\n\u001b[1;32m      1\u001b[0m \u001b[0;31m# Вывод результатов\u001b[0m\u001b[0;34m\u001b[0m\u001b[0;34m\u001b[0m\u001b[0;34m\u001b[0m\u001b[0m\n\u001b[1;32m      2\u001b[0m \u001b[0;31m#print('Точность градиентного бустинга:{}'.format(CBC.score(x_test, y_test)))\u001b[0m\u001b[0;34m\u001b[0m\u001b[0;34m\u001b[0m\u001b[0;34m\u001b[0m\u001b[0m\n\u001b[0;32m----> 3\u001b[0;31m \u001b[0mprint\u001b[0m\u001b[0;34m(\u001b[0m\u001b[0;34m'Точность метода случайных деревьев:{}'\u001b[0m\u001b[0;34m.\u001b[0m\u001b[0mformat\u001b[0m\u001b[0;34m(\u001b[0m\u001b[0mRFC\u001b[0m\u001b[0;34m.\u001b[0m\u001b[0mscore\u001b[0m\u001b[0;34m(\u001b[0m\u001b[0mx_test\u001b[0m\u001b[0;34m,\u001b[0m \u001b[0my_test\u001b[0m\u001b[0;34m)\u001b[0m\u001b[0;34m)\u001b[0m\u001b[0;34m)\u001b[0m\u001b[0;34m\u001b[0m\u001b[0;34m\u001b[0m\u001b[0m\n\u001b[0m\u001b[1;32m      4\u001b[0m \u001b[0;31m#print('Точность метода ближайших соседей:{}'.format(KNC.score(x_test, y_test)))\u001b[0m\u001b[0;34m\u001b[0m\u001b[0;34m\u001b[0m\u001b[0;34m\u001b[0m\u001b[0m\n",
      "\u001b[0;32m~/anaconda3/envs/wsrhelper/lib/python3.8/site-packages/sklearn/base.py\u001b[0m in \u001b[0;36mscore\u001b[0;34m(self, X, y, sample_weight)\u001b[0m\n\u001b[1;32m    497\u001b[0m         \"\"\"\n\u001b[1;32m    498\u001b[0m         \u001b[0;32mfrom\u001b[0m \u001b[0;34m.\u001b[0m\u001b[0mmetrics\u001b[0m \u001b[0;32mimport\u001b[0m \u001b[0maccuracy_score\u001b[0m\u001b[0;34m\u001b[0m\u001b[0;34m\u001b[0m\u001b[0m\n\u001b[0;32m--> 499\u001b[0;31m         \u001b[0;32mreturn\u001b[0m \u001b[0maccuracy_score\u001b[0m\u001b[0;34m(\u001b[0m\u001b[0my\u001b[0m\u001b[0;34m,\u001b[0m \u001b[0mself\u001b[0m\u001b[0;34m.\u001b[0m\u001b[0mpredict\u001b[0m\u001b[0;34m(\u001b[0m\u001b[0mX\u001b[0m\u001b[0;34m)\u001b[0m\u001b[0;34m,\u001b[0m \u001b[0msample_weight\u001b[0m\u001b[0;34m=\u001b[0m\u001b[0msample_weight\u001b[0m\u001b[0;34m)\u001b[0m\u001b[0;34m\u001b[0m\u001b[0;34m\u001b[0m\u001b[0m\n\u001b[0m\u001b[1;32m    500\u001b[0m \u001b[0;34m\u001b[0m\u001b[0m\n\u001b[1;32m    501\u001b[0m     \u001b[0;32mdef\u001b[0m \u001b[0m_more_tags\u001b[0m\u001b[0;34m(\u001b[0m\u001b[0mself\u001b[0m\u001b[0;34m)\u001b[0m\u001b[0;34m:\u001b[0m\u001b[0;34m\u001b[0m\u001b[0;34m\u001b[0m\u001b[0m\n",
      "\u001b[0;32m~/anaconda3/envs/wsrhelper/lib/python3.8/site-packages/sklearn/ensemble/_forest.py\u001b[0m in \u001b[0;36mpredict\u001b[0;34m(self, X)\u001b[0m\n\u001b[1;32m    627\u001b[0m             \u001b[0mThe\u001b[0m \u001b[0mpredicted\u001b[0m \u001b[0mclasses\u001b[0m\u001b[0;34m.\u001b[0m\u001b[0;34m\u001b[0m\u001b[0;34m\u001b[0m\u001b[0m\n\u001b[1;32m    628\u001b[0m         \"\"\"\n\u001b[0;32m--> 629\u001b[0;31m         \u001b[0mproba\u001b[0m \u001b[0;34m=\u001b[0m \u001b[0mself\u001b[0m\u001b[0;34m.\u001b[0m\u001b[0mpredict_proba\u001b[0m\u001b[0;34m(\u001b[0m\u001b[0mX\u001b[0m\u001b[0;34m)\u001b[0m\u001b[0;34m\u001b[0m\u001b[0;34m\u001b[0m\u001b[0m\n\u001b[0m\u001b[1;32m    630\u001b[0m \u001b[0;34m\u001b[0m\u001b[0m\n\u001b[1;32m    631\u001b[0m         \u001b[0;32mif\u001b[0m \u001b[0mself\u001b[0m\u001b[0;34m.\u001b[0m\u001b[0mn_outputs_\u001b[0m \u001b[0;34m==\u001b[0m \u001b[0;36m1\u001b[0m\u001b[0;34m:\u001b[0m\u001b[0;34m\u001b[0m\u001b[0;34m\u001b[0m\u001b[0m\n",
      "\u001b[0;32m~/anaconda3/envs/wsrhelper/lib/python3.8/site-packages/sklearn/ensemble/_forest.py\u001b[0m in \u001b[0;36mpredict_proba\u001b[0;34m(self, X)\u001b[0m\n\u001b[1;32m    669\u001b[0m             \u001b[0mclasses\u001b[0m \u001b[0mcorresponds\u001b[0m \u001b[0mto\u001b[0m \u001b[0mthat\u001b[0m \u001b[0;32min\u001b[0m \u001b[0mthe\u001b[0m \u001b[0mattribute\u001b[0m \u001b[0;34m:\u001b[0m\u001b[0mterm\u001b[0m\u001b[0;34m:\u001b[0m\u001b[0;31m`\u001b[0m\u001b[0mclasses_\u001b[0m\u001b[0;31m`\u001b[0m\u001b[0;34m.\u001b[0m\u001b[0;34m\u001b[0m\u001b[0;34m\u001b[0m\u001b[0m\n\u001b[1;32m    670\u001b[0m         \"\"\"\n\u001b[0;32m--> 671\u001b[0;31m         \u001b[0mcheck_is_fitted\u001b[0m\u001b[0;34m(\u001b[0m\u001b[0mself\u001b[0m\u001b[0;34m)\u001b[0m\u001b[0;34m\u001b[0m\u001b[0;34m\u001b[0m\u001b[0m\n\u001b[0m\u001b[1;32m    672\u001b[0m         \u001b[0;31m# Check data\u001b[0m\u001b[0;34m\u001b[0m\u001b[0;34m\u001b[0m\u001b[0;34m\u001b[0m\u001b[0m\n\u001b[1;32m    673\u001b[0m         \u001b[0mX\u001b[0m \u001b[0;34m=\u001b[0m \u001b[0mself\u001b[0m\u001b[0;34m.\u001b[0m\u001b[0m_validate_X_predict\u001b[0m\u001b[0;34m(\u001b[0m\u001b[0mX\u001b[0m\u001b[0;34m)\u001b[0m\u001b[0;34m\u001b[0m\u001b[0;34m\u001b[0m\u001b[0m\n",
      "\u001b[0;32m~/anaconda3/envs/wsrhelper/lib/python3.8/site-packages/sklearn/utils/validation.py\u001b[0m in \u001b[0;36minner_f\u001b[0;34m(*args, **kwargs)\u001b[0m\n\u001b[1;32m     70\u001b[0m                           FutureWarning)\n\u001b[1;32m     71\u001b[0m         \u001b[0mkwargs\u001b[0m\u001b[0;34m.\u001b[0m\u001b[0mupdate\u001b[0m\u001b[0;34m(\u001b[0m\u001b[0;34m{\u001b[0m\u001b[0mk\u001b[0m\u001b[0;34m:\u001b[0m \u001b[0marg\u001b[0m \u001b[0;32mfor\u001b[0m \u001b[0mk\u001b[0m\u001b[0;34m,\u001b[0m \u001b[0marg\u001b[0m \u001b[0;32min\u001b[0m \u001b[0mzip\u001b[0m\u001b[0;34m(\u001b[0m\u001b[0msig\u001b[0m\u001b[0;34m.\u001b[0m\u001b[0mparameters\u001b[0m\u001b[0;34m,\u001b[0m \u001b[0margs\u001b[0m\u001b[0;34m)\u001b[0m\u001b[0;34m}\u001b[0m\u001b[0;34m)\u001b[0m\u001b[0;34m\u001b[0m\u001b[0;34m\u001b[0m\u001b[0m\n\u001b[0;32m---> 72\u001b[0;31m         \u001b[0;32mreturn\u001b[0m \u001b[0mf\u001b[0m\u001b[0;34m(\u001b[0m\u001b[0;34m**\u001b[0m\u001b[0mkwargs\u001b[0m\u001b[0;34m)\u001b[0m\u001b[0;34m\u001b[0m\u001b[0;34m\u001b[0m\u001b[0m\n\u001b[0m\u001b[1;32m     73\u001b[0m     \u001b[0;32mreturn\u001b[0m \u001b[0minner_f\u001b[0m\u001b[0;34m\u001b[0m\u001b[0;34m\u001b[0m\u001b[0m\n\u001b[1;32m     74\u001b[0m \u001b[0;34m\u001b[0m\u001b[0m\n",
      "\u001b[0;32m~/anaconda3/envs/wsrhelper/lib/python3.8/site-packages/sklearn/utils/validation.py\u001b[0m in \u001b[0;36mcheck_is_fitted\u001b[0;34m(estimator, attributes, msg, all_or_any)\u001b[0m\n\u001b[1;32m   1017\u001b[0m \u001b[0;34m\u001b[0m\u001b[0m\n\u001b[1;32m   1018\u001b[0m     \u001b[0;32mif\u001b[0m \u001b[0;32mnot\u001b[0m \u001b[0mattrs\u001b[0m\u001b[0;34m:\u001b[0m\u001b[0;34m\u001b[0m\u001b[0;34m\u001b[0m\u001b[0m\n\u001b[0;32m-> 1019\u001b[0;31m         \u001b[0;32mraise\u001b[0m \u001b[0mNotFittedError\u001b[0m\u001b[0;34m(\u001b[0m\u001b[0mmsg\u001b[0m \u001b[0;34m%\u001b[0m \u001b[0;34m{\u001b[0m\u001b[0;34m'name'\u001b[0m\u001b[0;34m:\u001b[0m \u001b[0mtype\u001b[0m\u001b[0;34m(\u001b[0m\u001b[0mestimator\u001b[0m\u001b[0;34m)\u001b[0m\u001b[0;34m.\u001b[0m\u001b[0m__name__\u001b[0m\u001b[0;34m}\u001b[0m\u001b[0;34m)\u001b[0m\u001b[0;34m\u001b[0m\u001b[0;34m\u001b[0m\u001b[0m\n\u001b[0m\u001b[1;32m   1020\u001b[0m \u001b[0;34m\u001b[0m\u001b[0m\n\u001b[1;32m   1021\u001b[0m \u001b[0;34m\u001b[0m\u001b[0m\n",
      "\u001b[0;31mNotFittedError\u001b[0m: This RandomForestClassifier instance is not fitted yet. Call 'fit' with appropriate arguments before using this estimator."
     ]
    }
   ],
   "source": [
    "# Вывод результатов\n",
    "#print('Точность градиентного бустинга:{}'.format(CBC.score(x_test, y_test)))\n",
    "print('Точность метода случайных деревьев:{}'.format(RFC.score(x_test, y_test)))\n",
    "#print('Точность метода ближайших соседей:{}'.format(KNC.score(x_test, y_test)))"
   ]
  },
  {
   "cell_type": "markdown",
   "metadata": {},
   "source": [
    "Посмотрев на результаты тестирования моделей можно сказать, что метод градиентного бустинга и метода сучайных деревьев очень схожи по точности, а точность метода ближайших соседей заметно меньше остальных двух.  Схожесть методов градиентного бустинга и случайных деревьев можно обьяснить, концептуальной схожестью алгоритмов: оба строят логические деревья."
   ]
  },
  {
   "cell_type": "markdown",
   "metadata": {},
   "source": [
    "<h1 align=\"center\">Feature engenering</h1>"
   ]
  },
  {
   "cell_type": "markdown",
   "metadata": {},
   "source": [
    "Я предположу, что достав из краткого описания не одно, а несколько самых популярных слов, я увеличу точночть алгоритма"
   ]
  },
  {
   "cell_type": "code",
   "execution_count": 37,
   "metadata": {
    "scrolled": true
   },
   "outputs": [
    {
     "data": {
      "text/html": [
       "<div>\n",
       "<style scoped>\n",
       "    .dataframe tbody tr th:only-of-type {\n",
       "        vertical-align: middle;\n",
       "    }\n",
       "\n",
       "    .dataframe tbody tr th {\n",
       "        vertical-align: top;\n",
       "    }\n",
       "\n",
       "    .dataframe thead th {\n",
       "        text-align: right;\n",
       "    }\n",
       "</style>\n",
       "<table border=\"1\" class=\"dataframe\">\n",
       "  <thead>\n",
       "    <tr style=\"text-align: right;\">\n",
       "      <th></th>\n",
       "      <th>Автор</th>\n",
       "      <th>Адресат</th>\n",
       "      <th>Организация</th>\n",
       "      <th>Keyword1</th>\n",
       "      <th>Keyword2</th>\n",
       "      <th>Keyword3</th>\n",
       "    </tr>\n",
       "  </thead>\n",
       "  <tbody>\n",
       "    <tr>\n",
       "      <td>0</td>\n",
       "      <td>0</td>\n",
       "      <td>0</td>\n",
       "      <td>0</td>\n",
       "      <td>0</td>\n",
       "      <td>0</td>\n",
       "      <td>0</td>\n",
       "    </tr>\n",
       "    <tr>\n",
       "      <td>1</td>\n",
       "      <td>1</td>\n",
       "      <td>0</td>\n",
       "      <td>1</td>\n",
       "      <td>1</td>\n",
       "      <td>1</td>\n",
       "      <td>1</td>\n",
       "    </tr>\n",
       "    <tr>\n",
       "      <td>2</td>\n",
       "      <td>2</td>\n",
       "      <td>0</td>\n",
       "      <td>2</td>\n",
       "      <td>2</td>\n",
       "      <td>2</td>\n",
       "      <td>1</td>\n",
       "    </tr>\n",
       "    <tr>\n",
       "      <td>3</td>\n",
       "      <td>3</td>\n",
       "      <td>1</td>\n",
       "      <td>3</td>\n",
       "      <td>1</td>\n",
       "      <td>1</td>\n",
       "      <td>1</td>\n",
       "    </tr>\n",
       "    <tr>\n",
       "      <td>4</td>\n",
       "      <td>4</td>\n",
       "      <td>0</td>\n",
       "      <td>4</td>\n",
       "      <td>1</td>\n",
       "      <td>1</td>\n",
       "      <td>1</td>\n",
       "    </tr>\n",
       "  </tbody>\n",
       "</table>\n",
       "</div>"
      ],
      "text/plain": [
       "   Автор  Адресат  Организация  Keyword1  Keyword2  Keyword3\n",
       "0      0        0            0         0         0         0\n",
       "1      1        0            1         1         1         1\n",
       "2      2        0            2         2         2         1\n",
       "3      3        1            3         1         1         1\n",
       "4      4        0            4         1         1         1"
      ]
     },
     "execution_count": 37,
     "metadata": {},
     "output_type": "execute_result"
    }
   ],
   "source": [
    "reeng_feach = pd.DataFrame()\n",
    "\n",
    "stat = {}\n",
    "for i in df['Автор']:\n",
    "    if i not in stat:\n",
    "        stat[i] = 1\n",
    "    else:\n",
    "        stat[i] += 1\n",
    "stat = list(stat)\n",
    "autor = []\n",
    "for i in df['Автор']:\n",
    "    autor.append(stat.index(i))\n",
    "reeng_feach['Автор'] = autor\n",
    "\n",
    "stat = {}\n",
    "for i in df['Адресат']:\n",
    "    if i not in stat:\n",
    "        stat[i] = 1\n",
    "    else:\n",
    "        stat[i] += 1\n",
    "stat = list(stat)\n",
    "adres = []\n",
    "for i in df['Адресат']:\n",
    "    adres.append(stat.index(i))\n",
    "reeng_feach['Адресат'] = adres\n",
    "\n",
    "\n",
    "stat = {}\n",
    "for i in df['Организация']:\n",
    "    if i not in stat:\n",
    "        stat[i] = 1\n",
    "    else:\n",
    "        stat[i] += 1\n",
    "stat = list(stat)\n",
    "org = []\n",
    "for i in df['Организация']:\n",
    "    org.append(stat.index(i))\n",
    "reeng_feach['Организация'] = org\n",
    "\n",
    "\n",
    "\n",
    "dic = {}\n",
    "for i in df['Краткоесодержание']:\n",
    "    for j in i:\n",
    "        if j not in dic:\n",
    "            dic[j] = 1\n",
    "        else:\n",
    "            dic[j] += 1\n",
    "\n",
    "\n",
    "def get_pop(m):\n",
    "    t = 0\n",
    "    temp = []\n",
    "    for i in m:\n",
    "        if dic[i] > t:\n",
    "            temp.append(i)\n",
    "            t = dic[i]\n",
    "            if len(temp) >= 4:\n",
    "                temp = temp[1:]\n",
    "    while len(temp) < 3:\n",
    "        temp.append('')\n",
    "    return temp\n",
    "\n",
    "sod = []\n",
    "for i in df['Краткоесодержание']:\n",
    "    sod.append(get_pop(i))\n",
    "key1 = []\n",
    "key2 = []\n",
    "key3 = []\n",
    "for i in sod:\n",
    "    key1.append(i[0])\n",
    "    key2.append(i[1])\n",
    "    key3.append(i[2])\n",
    "reeng_feach['Keyword1'] = key1\n",
    "reeng_feach['Keyword2'] = key2\n",
    "reeng_feach['Keyword3'] = key3\n",
    "\n",
    "stat = {}\n",
    "for i in reeng_feach['Keyword1']:\n",
    "    if i not in stat:\n",
    "        stat[i] = 1\n",
    "    else:\n",
    "        stat[i] += 1\n",
    "stat = list(stat)\n",
    "soderj = []\n",
    "for i in reeng_feach['Keyword1']:\n",
    "    soderj.append(stat.index(i))\n",
    "reeng_feach['Keyword1'] = soderj\n",
    "\n",
    "stat = {}\n",
    "for i in reeng_feach['Keyword2']:\n",
    "    if i not in stat:\n",
    "        stat[i] = 1\n",
    "    else:\n",
    "        stat[i] += 1\n",
    "stat = list(stat)\n",
    "soderj = []\n",
    "for i in reeng_feach['Keyword2']:\n",
    "    soderj.append(stat.index(i))\n",
    "reeng_feach['Keyword2'] = soderj\n",
    "\n",
    "stat = {}\n",
    "for i in reeng_feach['Keyword3']:\n",
    "    if i not in stat:\n",
    "        stat[i] = 1\n",
    "    else:\n",
    "        stat[i] += 1\n",
    "stat = list(stat)\n",
    "soderj = []\n",
    "for i in reeng_feach['Keyword3']:\n",
    "    soderj.append(stat.index(i))\n",
    "reeng_feach['Keyword3'] = soderj\n",
    "reeng_feach.head()"
   ]
  },
  {
   "cell_type": "markdown",
   "metadata": {},
   "source": [
    "После того реинженеринга фич, надо снова разделить датасет на тренировочую и тестовую часть.  \n",
    "После чего заново обучить модели и посмотреть на результат"
   ]
  },
  {
   "cell_type": "code",
   "execution_count": 38,
   "metadata": {},
   "outputs": [],
   "source": [
    "from sklearn.model_selection import train_test_split\n",
    "target_data = df[target].values\n",
    "features_data = reeng_feach.drop(target,axis=1).values\n",
    "x_train, x_test, y_train, y_test = train_test_split(features_data, target_data, test_size=0.15)"
   ]
  },
  {
   "cell_type": "code",
   "execution_count": 39,
   "metadata": {},
   "outputs": [],
   "source": [
    "# Создание экземпляров классификаторов\n",
    "RFC = RandomForestClassifier()\n",
    "CBC = CatBoostClassifier(logging_level=\"Silent\")\n",
    "KNC = KNeighborsClassifier()"
   ]
  },
  {
   "cell_type": "code",
   "execution_count": 40,
   "metadata": {
    "scrolled": true
   },
   "outputs": [
    {
     "name": "stderr",
     "output_type": "stream",
     "text": [
      "C:\\Users\\user\\Anaconda3\\lib\\site-packages\\sklearn\\ensemble\\forest.py:245: FutureWarning: The default value of n_estimators will change from 10 in version 0.20 to 100 in 0.22.\n",
      "  \"10 in version 0.20 to 100 in 0.22.\", FutureWarning)\n"
     ]
    },
    {
     "data": {
      "text/plain": [
       "RandomForestClassifier(bootstrap=True, class_weight=None, criterion='gini',\n",
       "                       max_depth=None, max_features='auto', max_leaf_nodes=None,\n",
       "                       min_impurity_decrease=0.0, min_impurity_split=None,\n",
       "                       min_samples_leaf=1, min_samples_split=2,\n",
       "                       min_weight_fraction_leaf=0.0, n_estimators=10,\n",
       "                       n_jobs=None, oob_score=False, random_state=None,\n",
       "                       verbose=0, warm_start=False)"
      ]
     },
     "execution_count": 40,
     "metadata": {},
     "output_type": "execute_result"
    }
   ],
   "source": [
    "# Обучение моделей\n",
    "KNC.fit(x_train, y_train)\n",
    "CBC.fit(x_train, y_train)\n",
    "RFC.fit(x_train, y_train)"
   ]
  },
  {
   "cell_type": "code",
   "execution_count": 41,
   "metadata": {},
   "outputs": [
    {
     "name": "stdout",
     "output_type": "stream",
     "text": [
      "Точность градиентного бустинга:0.5040214477211796\n",
      "Точность метода случайных деревьев:0.4839142091152815\n",
      "Точность метода ближайших соседей:0.4061662198391421\n"
     ]
    }
   ],
   "source": [
    "# Вывод результатов\n",
    "print('Точность градиентного бустинга:{}'.format(CBC.score(x_test, y_test)))\n",
    "print('Точность метода случайных деревьев:{}'.format(RFC.score(x_test, y_test)))\n",
    "print('Точность метода ближайших соседей:{}'.format(KNC.score(x_test, y_test)))"
   ]
  },
  {
   "cell_type": "markdown",
   "metadata": {},
   "source": [
    "Точность из вывода выше, это проценты в нормализованном виде, т.е. умножив получившееся числа на 100% мы получим точность в процентах."
   ]
  },
  {
   "cell_type": "markdown",
   "metadata": {},
   "source": [
    "Как видно из вывода выше, реинженеринг фич помог увеличить точность моей целевой модели (градиентный бустинг) на 3%. На таком небольшом наборе данных это очень солидный прирост точности, даже не смотря на то, что точность метода ближайших соседей уменьшилась. Все вышеперечисленное доказывает, что выбраная мной модель действительно самая подходящая для данных задач"
   ]
  },
  {
   "cell_type": "code",
   "execution_count": 42,
   "metadata": {},
   "outputs": [],
   "source": [
    "import pickle"
   ]
  },
  {
   "cell_type": "code",
   "execution_count": 45,
   "metadata": {},
   "outputs": [],
   "source": [
    "with open('model.pic','wb') as f:\n",
    "    pickle.dump(CBC,f)\n",
    "    f.close()"
   ]
  },
  {
   "cell_type": "code",
   "execution_count": 82,
   "metadata": {},
   "outputs": [],
   "source": [
    "stat = {}\n",
    "for i in df['Адресат']:\n",
    "    if i not in stat:\n",
    "        stat[i] = 1\n",
    "    else:\n",
    "        stat[i] += 1"
   ]
  },
  {
   "cell_type": "code",
   "execution_count": 83,
   "metadata": {},
   "outputs": [],
   "source": [
    "stat = list(stat)\n",
    "stat\n",
    "with open('names.pic','wb') as f:\n",
    "    pickle.dump(stat,f)\n",
    "    f.close()"
   ]
  },
  {
   "cell_type": "code",
   "execution_count": 84,
   "metadata": {},
   "outputs": [
    {
     "data": {
      "text/plain": [
       "['Уразов Р.Н.',\n",
       " 'Иванюк Л.А.',\n",
       " 'Миронова С.В.',\n",
       " 'Тымчиков А.Ю.',\n",
       " 'Крайчинская С.Б.',\n",
       " 'Антонов Ю.В.',\n",
       " 'Глушко Д.Е.',\n",
       " 'Аштаева К.Д.',\n",
       " 'Митькина А.Н.',\n",
       " 'Желковский И.И.',\n",
       " 'Митяева И.В.',\n",
       " 'Мухаметзянов Д.Ф.',\n",
       " 'Недоспасова О.В.Никул Е.В.',\n",
       " 'Саликова К.В.',\n",
       " 'Куколев С.В.',\n",
       " 'Носков К.Ю.Попова А.Ю.Кочнев Д.В.Алешин А.В.Колобков П.А.Колокольцев В.А.Золотов В.В.Булавин В.И.Бортников А.В.Чайка Ю.Я.Скворцова В.И.Зиничев Е.Н.Шойгу С.К.Васильева О.Ю.Дитрих Е.И.Кобылкин Д.Н.Уразов Р.Н.Нарышкин С.Е.Нерадько А.В.Чиханчин Ю.А.Кудрин А.Л.Лавров С.ВБастрыкин А.И.Коновалов А.В.',\n",
       " 'Гонтарь М.А.',\n",
       " 'Недоспасова О.В.',\n",
       " 'Глушко Д.Е.Тымчиков А.Ю.',\n",
       " 'Глушко Д.Е.Иванюк Л.А.',\n",
       " 'Митькина А.Н.Миронова С.В.',\n",
       " 'Серафимова О.В.',\n",
       " 'Селукова А.И.',\n",
       " 'Зайчикова И.А.',\n",
       " 'Зензинова К.В.',\n",
       " 'Кожевникова Е.И.',\n",
       " 'Базер О.Э.',\n",
       " 'Митяева И.В.Крайчинская С.Б.',\n",
       " 'Досканова А.В.',\n",
       " 'Вишнякова О.Б.',\n",
       " 'Никул Е.В.',\n",
       " 'Алимов А.А.',\n",
       " 'Уфимцев Д.А.',\n",
       " 'Судаков К.Ю.',\n",
       " 'Митяева И.В.Судаков К.Ю.',\n",
       " 'Лошкарева Е.П.',\n",
       " 'Гревцов А.Б.Шайхутдинов Р.А.Сафаров А.А.Абдулганиев Ф.С.Гайзатуллин Р.Р.Загидуллин Р.И.Ахметов М.Г.Хамаев А.К.Аюпова И.Х.Сафин Л.Р.Бурганов Р.Т.Зарипова Э.А.Хохорин А.В.Садыков М.Н.Файзуллин И.Э.Каримов А.А.Хабибуллин Р.З.Шадриков А.В.Фаттахов Д.И.Леонов В.А.Кузюров Р.А.Валиуллин А.А.РуководствоЯгфарова И.Ю.Абязова Ю.А.Коршиков Е.Ю.Грачев А.О.Маганов Н.У.Выборнов А.А.Огородников А.И.Сагитова А.М.Макаров В.В.Шайдуллин М.З.Гилманов К.К.Фаттахов Э.Н.Демидов С.А.Никошин А.Ф.Хайруллин А.Р.Загидуллин Р.Н.Нуриев И.Г.Хакимов Г.Г.Гатиятуллин Р.Х.Нутфуллин Р.Р.Закиров Л.Р.Зяббаров М.А.Зиатдинов М.Г.Калимуллин Р.Г.Гафаров М.Р.Емельянов Г.Е.Каримов Р.Г.Тыгин А.В.Магдеев Н.Г.Рахматуллин А.И.Вазыхов Н.А.Димитриев С.Д.Афанасьев М.П.Хусаинов Р.Г.Иванов А.П.Чершинцев В.С.Салахов А.Ф.Метшин И.Р.Муллин Р.Х.Метшин А.Р.Козлов В.М.Ахметшин А.С.Кашапов И.М.Тазутдинов И.Р.Минниханов Р.Н.Хуснуллин Ф.М.Нугаев К.А.Сафиуллов Р.Х.Камаев Ф.М.Зарипов И.Ф.Давлетшин Ф.М.Иванов Д.А.Нуриев Р.М.Тымчиков А.Ю.Рахимов И.С.Кадыров А.Р.Бариев И.И.Халимов Р.А.Шафигуллин Л.Н.',\n",
       " 'Гафуров И.Р.Каримов А.А.Абдулганиев Ф.С.Леонов В.А.Зарипова Э.А.Фаттахов Д.И.Мухаметшин Р.М.Едиханов Р.А.Газизов А.Х.Агеев Ш.Р.Уразов Р.Н.Шагимарданов А.РГараев З.Ф.Юсупов И.У.Гатауллин А.Э.Кабиров Р.Х.Валеев Д.Р.Закиров А.Ф.Шакиров Р.А.Галиуллин Р.Ф.Абдулгалеев З.Т.Салихова Г.Х.Рахимуллина А.Р.Хайрутдинов Т.И.Тазетдинова Л.А.Гатаулин Т.М.Гилязов М.И.Ахметшин Р.К.Гильфанов Х.М.Валиуллин Р.Н.Шаяхметов Р.К.Зинатуллин Р.Р.Бадретдинов Б.М.Усманов А.М.Аблязов К.А.',\n",
       " 'Тымчиков А.Ю.Куколев С.В.Узалукова А.В.',\n",
       " 'Глушко Д.Е.Барышева Т.Г.',\n",
       " 'Иванюк Л.А.Митькина А.Н.',\n",
       " 'Митькина А.Н.Иванюк Л.А.',\n",
       " 'Попова Я.Д.',\n",
       " 'Глушко Д.Е.Кожевникова Е.И.',\n",
       " 'Трофимов А.В.',\n",
       " 'Миронова С.В.Иванюк Л.А.',\n",
       " 'Дубицкая Ю.А.',\n",
       " 'Тымчиков А.Ю.Глушко Д.Е.',\n",
       " 'Дмитриев М.Г.',\n",
       " 'Тунина К.В.',\n",
       " 'Терентьев А.М.Шайхутдинов Р.А.Гайзатуллин Р.Р.Бурганов Р.Т.Кадыров А.Р.Уразов Р.Н.Хамитов Д.Г.Хохорин А.В.Гумеров Р.Ф.Мавликов А.В.Гафуров И.Р.Рахимов И.С.Губайдуллин Э.Ф.Зарипова Э.А.Файзуллин И.Э.Каримов А.А.Ахметов М.Г.Иванов С.Е.Садыков М.Н.Аюпова И.Х.Абдулганиев Ф.С.Сафин Л.Р.Хабибуллин Р.З.Зарипов А.Р.Калинкин Д.Г.Патяшина М.А.Фардиев И.Ш.Фадеев М.В.Большаков А.В.Хазиев Р.М.Галеев Э.Г.Старостин А.А.Миннахметов И.З.Габдурахманов Л.Р.Ахметшин А.И.Петров Б.Г.Миннегалиев Р.Х.Макаров В.В.Шайдуллин М.З.Гилманов К.К.Фаттахов Э.Н.Демидов С.А.Никошин А.Ф.Хайруллин А.Р.Загидуллин Р.Н.Нуриев И.Г.Хакимов Г.Г.Гатиятуллин Р.Х.Нутфуллин Р.Р.Закиров Л.Р.Зяббаров М.А.Зиатдинов М.Г.Калимуллин Р.Г.Гафаров М.Р.Емельянов Г.Е.Каримов Р.Г.Тыгин А.В.Магдеев Н.Г.Рахматуллин А.И.Вазыхов Н.А.Димитриев С.Д.Афанасьев М.П.Хусаинов Р.Г.Иванов А.П.Чершинцев В.С.Салахов А.Ф.Метшин И.Р.Муллин Р.Х.Метшин А.Р.Козлов В.М.Ахметшин А.С.Кашапов И.М.Тазутдинов И.Р.Минниханов Р.Н.Хуснуллин Ф.М.Нугаев К.А.Сафиуллов Р.Х.Камаев Ф.М.Зарипов И.Ф.Давлетшин Ф.М.Иванов Д.А.Нуриев Р.М.Песошин А.В.Выборнов А.А.Волков А.И.Сабирова Р.Н.Губайдуллин Э.Ф.',\n",
       " 'Недоспасова О.В.Митяева И.В.',\n",
       " 'Уразов Р.Н.Богучарская А.С.Кожевникова Е.И.Никул Е.В.Софронова М.И.Стогов Е.А.Федосеев А.И.',\n",
       " 'Уразов Р.Н.Терентьев А.М.',\n",
       " 'Крук С.В.',\n",
       " 'Глушко Д.Е.Досканова А.В.',\n",
       " 'Иванюк Л.А.Тымчиков А.Ю.',\n",
       " 'Шайхутдинов Р.А.Бурганов Р.Т.Уразов Р.Н.Нигматуллин Р.К.Юшко С.В.Хусаинов А.Ш.Ларионова Т.П.Камалетдинова Т.С.Шагивалеев Т.Н.Абдулганиев Ф.С.Шайхутдинов Х.Х.Абдуллазянов Э.Ю.Камалтынов Ю.З.',\n",
       " 'Глушко Д.Е.Недоспасова О.В.',\n",
       " 'Кононова Н.А.',\n",
       " 'Кононова Н.А.Никул Е.В.',\n",
       " 'Сафаров А.А.Песошин А.В.Гайзатуллин Р.Р.Шайхутдинов Р.А.Мухаметшин Ф.Х.Хохорин А.В.Леонов В.А.Фаттахов Д.И.Садыков М.Н.Аюпова И.Х.Бурганов Р.Т.Файзуллин И.Э.Каримов А.А.Сафин Л.Р.Абдулганиев Ф.С.Загидуллин Р.И.РуководствоИванов С.Е.Губайдуллин Э.С.Абязова Ю.А.Зарипов А.Р.Антипин С.А.Демидов Д.А.Валитов И.А.Муратов М.Я.Гарипов И.М.Терентьев А.М.Савельев И.Л.Балтусова О.А.Гиматдинов Р.Р.Нурутдинов А.Р.Сабиров Р.К.Нафигин А.И.Глухова Л.Ю.Габдрашитов Б.Р.Волков А.И.Сабирова Р.Н.Губайдуллин Э.Ф.Агеев Ш.Р.Афанасьев М.П.Афанасьев А.И.Бариев М.М.Вахитов Р.Р.Гафуров И.Р.Гаязов З.Ф.Гумеров Р.Ф.Залялова А.Г.Шагивалеев Т.Н.Когогин С.А.Лаврентьев А.П.Мавликов А.В.Маганов Н.У.Метшин И.Р.Миннегалиев Р.Х.Мифтахов Р.З.Патяшина М.А.Пустовгаров Ю.Л.Рахимов И.С.Уразов Р.Н.Фардиев И.Ш.Шигабутдинов А.К.Якубов Ю.Д.Муртазина Л.Н.Туманов Д.А.Хамитов Д.Г.Хабибуллин Р.З.Зарипова Э.А.Хамаев А.К.',\n",
       " 'Говорова Н.В.',\n",
       " 'Никул Е.В.Кононова Н.А.',\n",
       " 'Барышева Т.Г.',\n",
       " 'Лысова С.И.',\n",
       " 'Никул Е.В.Гонтарь М.А.',\n",
       " 'Тымчиков А.Ю.Никул Е.В.',\n",
       " 'Крайчинская С.Б.Федосеев А.И.',\n",
       " 'Гафуров И.Р.Лаврентьев А.П.Агеев Ш.Р.Афанасьев А.И.Бариев М.М.Залялова А.Г.Вахитов Р.Р.Гайнутдинов А.Р.Гаязов З.Ф.Гильмутдинов И.И.Хамитов Д.Г.Когогин С.А.Афанасьев М.П.Мавликов А.В.Мифтахов Р.З.Маганов Н.У.Павлова О.И.Патяшина М.А.Пустовгаров Ю.Л.Рахимов И.С.Уразов Р.Н.Фардиев И.Ш.Шигабутдинов А.К.Губайдуллин Э.С.Якубов Ю.Д.',\n",
       " 'Глушко Д.Е.Лысова С.И.',\n",
       " 'Лисова Т.А.',\n",
       " 'Митяева И.В.Никул Е.В.',\n",
       " 'Глушко Д.Е.Никул Е.В.',\n",
       " 'Бородин И.С.',\n",
       " 'Мухаметзянов Д.Ф.Лысова С.И.',\n",
       " 'Федосеев А.И.',\n",
       " 'Лысова С.И.Тымчиков А.Ю.',\n",
       " 'Иванюк Л.А.Крайчинская С.Б.',\n",
       " 'Суперекин И.Ю.',\n",
       " 'Никул Е.В.Глушко Д.Е.',\n",
       " 'Щугорев Н.А.Саликова К.В.',\n",
       " 'Глушко Д.Е.Базер О.Э.',\n",
       " 'Тымчиков А.Ю.Базер О.Э.',\n",
       " 'Мухаметзянов Д.Ф.Никул Е.В.',\n",
       " 'Гайзатуллин Р.Р.Песошин А.В.Шайхутдинов Р.А.Бурганов Р.Т.Каримов А.А.Сафаров А.А.Савельев И.Л.Нафигин А.И.Глухова Л.Ю.Сабирова Р.Н.Носков К.Ю.Уразов Р.Н.',\n",
       " 'Саликова К.В.Никул Е.В.',\n",
       " 'Тымчиков А.Ю.Никул Е.В.Саликова К.В.',\n",
       " 'Тымчиков А.Ю.Лысова С.И.',\n",
       " 'Глушко Д.Е.Куколев С.В.',\n",
       " 'Тымчиков А.Ю.Досканова А.В.Никул Е.В.',\n",
       " 'Езерская А.М.',\n",
       " 'Мухаметзянов Д.Ф.Тымчиков А.Ю.Судаков К.Ю.',\n",
       " 'Недоспасова О.В.Мухаметзянов Д.Ф.',\n",
       " 'Никул Е.В.Тымчиков А.Ю.',\n",
       " 'Лысова С.И.Тымчиков А.Ю.Саликова К.В.',\n",
       " 'Никул Е.В.Тымчиков А.Ю.Саликова К.В.',\n",
       " 'Тымчиков А.Ю.Никул Е.В.Досканова А.В.',\n",
       " 'Недоспасова О.В.Глушко Д.Е.',\n",
       " 'Саликова К.В.Мухаметзянов Д.Ф.',\n",
       " 'Глушко Д.Е.Уразов Р.Н.',\n",
       " 'Хворостяная И.В.',\n",
       " 'Сумакова Е.Д.',\n",
       " 'Покровская И.В.',\n",
       " 'Мухаметзянов Д.Ф.Крайчинская С.Б.',\n",
       " 'Саликова К.В.Тымчиков А.Ю.',\n",
       " 'Лысова С.И.Саликова К.В.Тымчиков А.Ю.',\n",
       " 'Бакова Ю.В.',\n",
       " 'Глушко Д.Е.Саликова К.В.',\n",
       " 'Мухаметзянов Д.Ф.Глушко Д.Е.Крайчинская С.Б.Судаков К.Ю.Митяева И.В.',\n",
       " 'Лошкарева Е.П.Досканова А.В.',\n",
       " 'Песошин А.В.Леонов В.А.Бурганов Р.Т.Каримов А.А.Сафаров А.А.Савельев И.Л.Нафигин А.И.Глухова Л.Ю.Сабирова Р.Н.Лихачев А.Е.Уразов Р.Н.Кадыров А.Р.',\n",
       " 'Стеклова И.В.',\n",
       " 'Уразов Р.Н.Тымчиков А.Ю.',\n",
       " 'Смирнова Л.В.',\n",
       " 'Плюмпа М.А.',\n",
       " 'Безносикова Н.А.',\n",
       " 'Уразов Р.Н.Глушко Д.Е.Тымчиков А.Ю.Базер О.Э.Дмитриев М.Г.Уфимцев Д.А.',\n",
       " 'Бурганов Р.Т.Шайхутдинов Р.А.Тымчиков А.Ю.',\n",
       " 'Мартынюк Е.Д.',\n",
       " 'Домаева О.Ю.',\n",
       " 'Недоспасова О.В.Хворостяная И.В.Досканова А.В.',\n",
       " 'Степаненко Е.А.',\n",
       " 'Базер О.Э.Иванюк Л.А.',\n",
       " 'Глушко Д.Е.Тымчиков А.Ю.Иванюк Л.А.',\n",
       " 'Токтарова Т.А.',\n",
       " 'Недоспасова О.В.Глушко Д.Е.Лысова С.И.Никул Е.В.',\n",
       " 'Абдуллин А.М.',\n",
       " 'Недоспасова О.В.Хворостяная И.В.',\n",
       " 'Гайдаев М.И.',\n",
       " 'Афанасьева С.Н.Хуснутдинова И.И.Камалетдинова Т.С.Губайдуллин Э.Ф.Никул Е.В.Багров Ю.Н.',\n",
       " 'Тымчиков А.Ю.Акимов П.М.Базер О.Э.',\n",
       " 'Тымчиков А.Ю.Трофимов А.В.Акимов П.М.',\n",
       " 'Никул Е.В.Судаков К.Ю.Миронова С.В.',\n",
       " 'Тарасенко М.Е.',\n",
       " 'Трофимов А.В.Акимов П.М.',\n",
       " 'Сафаров А.А.Песошин А.В.Леонов В.А.Савельев И.Л.Гараева А.Р.Фазлеева Л.Р.Волков А.И.Сабирова Р.Н.Кадыров А.Р.Уразов Р.Н.',\n",
       " 'Уразов Р.Н.Недоспасова О.В.',\n",
       " 'Глушко Д.Е.Набатова А.Ю.',\n",
       " 'Никул Е.В.Мухаметзянов Д.Ф.Митяева И.В.',\n",
       " 'Нерезькова И.В.',\n",
       " 'Чуева А.В.',\n",
       " 'Артемова Т.В.',\n",
       " 'Куколев С.В.Судаков К.Ю.',\n",
       " 'Дрокин В.И.Бакова Ю.В.',\n",
       " 'Досканова А.В.Глушко Д.Е.Тымчиков А.Ю.',\n",
       " 'Саликова К.В.Митькина А.Н.',\n",
       " 'Уразов Р.Н.Песков Д.Н.',\n",
       " 'Уразов Р.Н.Дмитриев М.Г.',\n",
       " 'Уразов Р.Н.Глушко Д.Е.',\n",
       " 'Глушко Д.Е.Суперекин И.Ю.',\n",
       " 'Лысова С.И.Судаков К.Ю.',\n",
       " 'Огородова Л.М.Крайчинская С.Б.',\n",
       " 'Кадылева Ж.М.Овчинников А.Ю.Картошкин С.А.Никул Е.В.',\n",
       " 'Мухаметзянов Д.Ф.Судаков К.Ю.',\n",
       " 'Уразов Р.Н.Тымчиков А.Ю.Колусенко У.Д.',\n",
       " 'Глушко Д.Е.Митькина А.Н.',\n",
       " 'Уразов Р.Н.Глушко Д.Е.Шабельников С.Н.',\n",
       " 'Уразов Р.Н.Скидков Я.Р.',\n",
       " 'Осадчая И.В.',\n",
       " 'Картошкин С.А.Никул Е.В.Овчинников А.Ю.Кадылева Ж.М.']"
      ]
     },
     "execution_count": 84,
     "metadata": {},
     "output_type": "execute_result"
    }
   ],
   "source": [
    "stat"
   ]
  },
  {
   "cell_type": "code",
   "execution_count": null,
   "metadata": {},
   "outputs": [],
   "source": []
  }
 ],
 "metadata": {
  "kernelspec": {
   "display_name": "Python 3.8.5 64-bit ('wsrhelper': conda)",
   "language": "python",
   "name": "python_defaultSpec_1598947665627"
  },
  "language_info": {
   "codemirror_mode": {
    "name": "ipython",
    "version": 3
   },
   "file_extension": ".py",
   "mimetype": "text/x-python",
   "name": "python",
   "nbconvert_exporter": "python",
   "pygments_lexer": "ipython3",
   "version": "3.8.5-final"
  }
 },
 "nbformat": 4,
 "nbformat_minor": 2
}